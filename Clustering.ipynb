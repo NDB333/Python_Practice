{
 "cells": [
  {
   "cell_type": "code",
   "execution_count": 1,
   "metadata": {},
   "outputs": [],
   "source": [
    "from IPython.core.interactiveshell import InteractiveShell\n",
    "InteractiveShell.ast_node_interactivity = \"all\"\n",
    "\n",
    "%matplotlib inline\n",
    "\n",
    "import pandas as pd\n",
    "import numpy as np\n",
    "\n",
    "import matplotlib.pyplot as plt\n",
    "import seaborn as sns\n",
    "sns.set_style(\"whitegrid\")\n",
    "sns.set_context(\"notebook\")\n",
    "#sns.set_context(\"poster\")\n"
   ]
  },
  {
   "cell_type": "code",
   "execution_count": 2,
   "metadata": {},
   "outputs": [],
   "source": [
    "# For this exercise you need to install yellowbrick\n",
    "# it will be also useful to take a look at the documentation\n",
    "#    scikit-yb.org\n",
    "#\n",
    "# ! pip install yellowbrick\n",
    "\n",
    "from sklearn.model_selection import train_test_split\n",
    "from sklearn.metrics import accuracy_score\n",
    "\n",
    "from sklearn import preprocessing\n",
    "\n",
    "from sklearn.datasets import load_wine\n",
    "from sklearn.datasets import load_boston\n",
    "\n",
    "from sklearn.cluster import KMeans\n",
    "from sklearn.cluster import MiniBatchKMeans\n",
    "from yellowbrick.cluster import KElbowVisualizer\n",
    "from yellowbrick.cluster import SilhouetteVisualizer\n",
    "from yellowbrick.cluster import InterclusterDistance\n",
    "from yellowbrick.model_selection import LearningCurve\n"
   ]
  },
  {
   "cell_type": "markdown",
   "metadata": {},
   "source": [
    "<h1>Clustering</h1>\n",
    "\n",
    "Clustering is the most common and well-known unsupervised learning techniques. We can find clustring almost everywhere, in political campaigns, in client segmentation, ... The aglomeration of similar items is very familiar to us, Cities are clusters of people and in cities business traditionally cluster.\n",
    "\n",
    "However, the fact that clustering is unsupervised poses some problems to validation metrics and verification. There is normally no grown truth, therefore there is not a single solution. Many times clusters, including its number, depends on the point of view of the problem and the questions that we are trying to address. \n",
    "\n",
    "The first problem that we encounter with clustering is finding out the best number of clusters. For this the elbow method is commonly used. It performs k-means with an increasingly number of clusters finding the k (number of clusters) that minimizes intra-cluster distance.\n",
    "\n",
    "Checking the goodness is commonly done using the Silhoutte coefficient that measures the mean intra-cluster distance relative to the nearest clusters providing an appreciation of compactness. \n",
    "\n",
    "Clustering is very intuitive in two-dimensional spaces, but difficult to imagine in multidimensional spaces. The output of a clustering algorithm are centroids which consists of vectors with the center for each attribute. Using predict we can easily assign membership. \n",
    "\n",
    "Also we aware that clustering works measuring distances, therefore we need to rescaled (normally between 0..1) all the attributes. \n",
    "\n",
    "In this notebook we will use the UCI wine dataset, a compilation of characteristics of 178 Italian red wines divided in three families. We will see how well clustering can find without any example these three classes. \n",
    "\n",
    "In many cases, like this one, clustering has some coincidences with classification. This is precisely this case. When this happens we know the ground truth and therefore we can apply measures such as accuracy. However, this is uncommon, and therefore assessing its goodness is difficult. \n",
    "\n",
    "This notebook heavily uses the yellowbrick library, please install it with \n",
    "<p style=\"margin-left: 200px\"> <b><i>pip install yellowbrick</i></b> </p>"
   ]
  },
  {
   "cell_type": "markdown",
   "metadata": {},
   "source": [
    "<img src=\"wine-dataset.jpg\">"
   ]
  },
  {
   "cell_type": "code",
   "execution_count": 3,
   "metadata": {},
   "outputs": [
    {
     "name": "stdout",
     "output_type": "stream",
     "text": [
      ".. _wine_dataset:\n",
      "\n",
      "Wine recognition dataset\n",
      "------------------------\n",
      "\n",
      "**Data Set Characteristics:**\n",
      "\n",
      "    :Number of Instances: 178 (50 in each of three classes)\n",
      "    :Number of Attributes: 13 numeric, predictive attributes and the class\n",
      "    :Attribute Information:\n",
      " \t\t- Alcohol\n",
      " \t\t- Malic acid\n",
      " \t\t- Ash\n",
      "\t\t- Alcalinity of ash  \n",
      " \t\t- Magnesium\n",
      "\t\t- Total phenols\n",
      " \t\t- Flavanoids\n",
      " \t\t- Nonflavanoid phenols\n",
      " \t\t- Proanthocyanins\n",
      "\t\t- Color intensity\n",
      " \t\t- Hue\n",
      " \t\t- OD280/OD315 of diluted wines\n",
      " \t\t- Proline\n",
      "\n",
      "    - class:\n",
      "            - class_0\n",
      "            - class_1\n",
      "            - class_2\n",
      "\t\t\n",
      "    :Summary Statistics:\n",
      "    \n",
      "    ============================= ==== ===== ======= =====\n",
      "                                   Min   Max   Mean     SD\n",
      "    ============================= ==== ===== ======= =====\n",
      "    Alcohol:                      11.0  14.8    13.0   0.8\n",
      "    Malic Acid:                   0.74  5.80    2.34  1.12\n",
      "    Ash:                          1.36  3.23    2.36  0.27\n",
      "    Alcalinity of Ash:            10.6  30.0    19.5   3.3\n",
      "    Magnesium:                    70.0 162.0    99.7  14.3\n",
      "    Total Phenols:                0.98  3.88    2.29  0.63\n",
      "    Flavanoids:                   0.34  5.08    2.03  1.00\n",
      "    Nonflavanoid Phenols:         0.13  0.66    0.36  0.12\n",
      "    Proanthocyanins:              0.41  3.58    1.59  0.57\n",
      "    Colour Intensity:              1.3  13.0     5.1   2.3\n",
      "    Hue:                          0.48  1.71    0.96  0.23\n",
      "    OD280/OD315 of diluted wines: 1.27  4.00    2.61  0.71\n",
      "    Proline:                       278  1680     746   315\n",
      "    ============================= ==== ===== ======= =====\n",
      "\n",
      "    :Missing Attribute Values: None\n",
      "    :Class Distribution: class_0 (59), class_1 (71), class_2 (48)\n",
      "    :Creator: R.A. Fisher\n",
      "    :Donor: Michael Marshall (MARSHALL%PLU@io.arc.nasa.gov)\n",
      "    :Date: July, 1988\n",
      "\n",
      "This is a copy of UCI ML Wine recognition datasets.\n",
      "https://archive.ics.uci.edu/ml/machine-learning-databases/wine/wine.data\n",
      "\n",
      "The data is the results of a chemical analysis of wines grown in the same\n",
      "region in Italy by three different cultivators. There are thirteen different\n",
      "measurements taken for different constituents found in the three types of\n",
      "wine.\n",
      "\n",
      "Original Owners: \n",
      "\n",
      "Forina, M. et al, PARVUS - \n",
      "An Extendible Package for Data Exploration, Classification and Correlation. \n",
      "Institute of Pharmaceutical and Food Analysis and Technologies,\n",
      "Via Brigata Salerno, 16147 Genoa, Italy.\n",
      "\n",
      "Citation:\n",
      "\n",
      "Lichman, M. (2013). UCI Machine Learning Repository\n",
      "[https://archive.ics.uci.edu/ml]. Irvine, CA: University of California,\n",
      "School of Information and Computer Science. \n",
      "\n",
      ".. topic:: References\n",
      "\n",
      "  (1) S. Aeberhard, D. Coomans and O. de Vel, \n",
      "  Comparison of Classifiers in High Dimensional Settings, \n",
      "  Tech. Rep. no. 92-02, (1992), Dept. of Computer Science and Dept. of  \n",
      "  Mathematics and Statistics, James Cook University of North Queensland. \n",
      "  (Also submitted to Technometrics). \n",
      "\n",
      "  The data was used with many others for comparing various \n",
      "  classifiers. The classes are separable, though only RDA \n",
      "  has achieved 100% correct classification. \n",
      "  (RDA : 100%, QDA 99.4%, LDA 98.9%, 1NN 96.1% (z-transformed data)) \n",
      "  (All results using the leave-one-out technique) \n",
      "\n",
      "  (2) S. Aeberhard, D. Coomans and O. de Vel, \n",
      "  \"THE CLASSIFICATION PERFORMANCE OF RDA\" \n",
      "  Tech. Rep. no. 92-01, (1992), Dept. of Computer Science and Dept. of \n",
      "  Mathematics and Statistics, James Cook University of North Queensland. \n",
      "  (Also submitted to Journal of Chemometrics).\n",
      "\n"
     ]
    }
   ],
   "source": [
    "# We use the wine dataset\n",
    "wine = load_wine()\n",
    "\n",
    "print(wine[\"DESCR\"])"
   ]
  },
  {
   "cell_type": "code",
   "execution_count": 4,
   "metadata": {},
   "outputs": [
    {
     "data": {
      "text/html": [
       "<div>\n",
       "<style scoped>\n",
       "    .dataframe tbody tr th:only-of-type {\n",
       "        vertical-align: middle;\n",
       "    }\n",
       "\n",
       "    .dataframe tbody tr th {\n",
       "        vertical-align: top;\n",
       "    }\n",
       "\n",
       "    .dataframe thead th {\n",
       "        text-align: right;\n",
       "    }\n",
       "</style>\n",
       "<table border=\"1\" class=\"dataframe\">\n",
       "  <thead>\n",
       "    <tr style=\"text-align: right;\">\n",
       "      <th></th>\n",
       "      <th>alcohol</th>\n",
       "      <th>malic_acid</th>\n",
       "      <th>ash</th>\n",
       "      <th>alcalinity_of_ash</th>\n",
       "      <th>magnesium</th>\n",
       "      <th>total_phenols</th>\n",
       "      <th>flavanoids</th>\n",
       "      <th>nonflavanoid_phenols</th>\n",
       "      <th>proanthocyanins</th>\n",
       "      <th>color_intensity</th>\n",
       "      <th>hue</th>\n",
       "      <th>od280/od315_of_diluted_wines</th>\n",
       "      <th>proline</th>\n",
       "      <th>TARGET</th>\n",
       "    </tr>\n",
       "  </thead>\n",
       "  <tbody>\n",
       "    <tr>\n",
       "      <th>0</th>\n",
       "      <td>14.23</td>\n",
       "      <td>1.71</td>\n",
       "      <td>2.43</td>\n",
       "      <td>15.6</td>\n",
       "      <td>127.0</td>\n",
       "      <td>2.80</td>\n",
       "      <td>3.06</td>\n",
       "      <td>0.28</td>\n",
       "      <td>2.29</td>\n",
       "      <td>5.64</td>\n",
       "      <td>1.04</td>\n",
       "      <td>3.92</td>\n",
       "      <td>1065.0</td>\n",
       "      <td>0</td>\n",
       "    </tr>\n",
       "    <tr>\n",
       "      <th>1</th>\n",
       "      <td>13.20</td>\n",
       "      <td>1.78</td>\n",
       "      <td>2.14</td>\n",
       "      <td>11.2</td>\n",
       "      <td>100.0</td>\n",
       "      <td>2.65</td>\n",
       "      <td>2.76</td>\n",
       "      <td>0.26</td>\n",
       "      <td>1.28</td>\n",
       "      <td>4.38</td>\n",
       "      <td>1.05</td>\n",
       "      <td>3.40</td>\n",
       "      <td>1050.0</td>\n",
       "      <td>0</td>\n",
       "    </tr>\n",
       "    <tr>\n",
       "      <th>2</th>\n",
       "      <td>13.16</td>\n",
       "      <td>2.36</td>\n",
       "      <td>2.67</td>\n",
       "      <td>18.6</td>\n",
       "      <td>101.0</td>\n",
       "      <td>2.80</td>\n",
       "      <td>3.24</td>\n",
       "      <td>0.30</td>\n",
       "      <td>2.81</td>\n",
       "      <td>5.68</td>\n",
       "      <td>1.03</td>\n",
       "      <td>3.17</td>\n",
       "      <td>1185.0</td>\n",
       "      <td>0</td>\n",
       "    </tr>\n",
       "    <tr>\n",
       "      <th>3</th>\n",
       "      <td>14.37</td>\n",
       "      <td>1.95</td>\n",
       "      <td>2.50</td>\n",
       "      <td>16.8</td>\n",
       "      <td>113.0</td>\n",
       "      <td>3.85</td>\n",
       "      <td>3.49</td>\n",
       "      <td>0.24</td>\n",
       "      <td>2.18</td>\n",
       "      <td>7.80</td>\n",
       "      <td>0.86</td>\n",
       "      <td>3.45</td>\n",
       "      <td>1480.0</td>\n",
       "      <td>0</td>\n",
       "    </tr>\n",
       "    <tr>\n",
       "      <th>4</th>\n",
       "      <td>13.24</td>\n",
       "      <td>2.59</td>\n",
       "      <td>2.87</td>\n",
       "      <td>21.0</td>\n",
       "      <td>118.0</td>\n",
       "      <td>2.80</td>\n",
       "      <td>2.69</td>\n",
       "      <td>0.39</td>\n",
       "      <td>1.82</td>\n",
       "      <td>4.32</td>\n",
       "      <td>1.04</td>\n",
       "      <td>2.93</td>\n",
       "      <td>735.0</td>\n",
       "      <td>0</td>\n",
       "    </tr>\n",
       "  </tbody>\n",
       "</table>\n",
       "</div>"
      ],
      "text/plain": [
       "   alcohol  malic_acid   ash  alcalinity_of_ash  magnesium  total_phenols  \\\n",
       "0    14.23        1.71  2.43               15.6      127.0           2.80   \n",
       "1    13.20        1.78  2.14               11.2      100.0           2.65   \n",
       "2    13.16        2.36  2.67               18.6      101.0           2.80   \n",
       "3    14.37        1.95  2.50               16.8      113.0           3.85   \n",
       "4    13.24        2.59  2.87               21.0      118.0           2.80   \n",
       "\n",
       "   flavanoids  nonflavanoid_phenols  proanthocyanins  color_intensity   hue  \\\n",
       "0        3.06                  0.28             2.29             5.64  1.04   \n",
       "1        2.76                  0.26             1.28             4.38  1.05   \n",
       "2        3.24                  0.30             2.81             5.68  1.03   \n",
       "3        3.49                  0.24             2.18             7.80  0.86   \n",
       "4        2.69                  0.39             1.82             4.32  1.04   \n",
       "\n",
       "   od280/od315_of_diluted_wines  proline  TARGET  \n",
       "0                          3.92   1065.0       0  \n",
       "1                          3.40   1050.0       0  \n",
       "2                          3.17   1185.0       0  \n",
       "3                          3.45   1480.0       0  \n",
       "4                          2.93    735.0       0  "
      ]
     },
     "execution_count": 4,
     "metadata": {},
     "output_type": "execute_result"
    },
    {
     "data": {
      "text/html": [
       "<div>\n",
       "<style scoped>\n",
       "    .dataframe tbody tr th:only-of-type {\n",
       "        vertical-align: middle;\n",
       "    }\n",
       "\n",
       "    .dataframe tbody tr th {\n",
       "        vertical-align: top;\n",
       "    }\n",
       "\n",
       "    .dataframe thead th {\n",
       "        text-align: right;\n",
       "    }\n",
       "</style>\n",
       "<table border=\"1\" class=\"dataframe\">\n",
       "  <thead>\n",
       "    <tr style=\"text-align: right;\">\n",
       "      <th></th>\n",
       "      <th>alcohol</th>\n",
       "      <th>malic_acid</th>\n",
       "      <th>ash</th>\n",
       "      <th>alcalinity_of_ash</th>\n",
       "      <th>magnesium</th>\n",
       "      <th>total_phenols</th>\n",
       "      <th>flavanoids</th>\n",
       "      <th>nonflavanoid_phenols</th>\n",
       "      <th>proanthocyanins</th>\n",
       "      <th>color_intensity</th>\n",
       "      <th>hue</th>\n",
       "      <th>od280/od315_of_diluted_wines</th>\n",
       "      <th>proline</th>\n",
       "      <th>TARGET</th>\n",
       "    </tr>\n",
       "  </thead>\n",
       "  <tbody>\n",
       "    <tr>\n",
       "      <th>count</th>\n",
       "      <td>178.000000</td>\n",
       "      <td>178.000000</td>\n",
       "      <td>178.000000</td>\n",
       "      <td>178.000000</td>\n",
       "      <td>178.000000</td>\n",
       "      <td>178.000000</td>\n",
       "      <td>178.000000</td>\n",
       "      <td>178.000000</td>\n",
       "      <td>178.000000</td>\n",
       "      <td>178.000000</td>\n",
       "      <td>178.000000</td>\n",
       "      <td>178.000000</td>\n",
       "      <td>178.000000</td>\n",
       "      <td>178.000000</td>\n",
       "    </tr>\n",
       "    <tr>\n",
       "      <th>mean</th>\n",
       "      <td>13.000618</td>\n",
       "      <td>2.336348</td>\n",
       "      <td>2.366517</td>\n",
       "      <td>19.494944</td>\n",
       "      <td>99.741573</td>\n",
       "      <td>2.295112</td>\n",
       "      <td>2.029270</td>\n",
       "      <td>0.361854</td>\n",
       "      <td>1.590899</td>\n",
       "      <td>5.058090</td>\n",
       "      <td>0.957449</td>\n",
       "      <td>2.611685</td>\n",
       "      <td>746.893258</td>\n",
       "      <td>0.938202</td>\n",
       "    </tr>\n",
       "    <tr>\n",
       "      <th>std</th>\n",
       "      <td>0.811827</td>\n",
       "      <td>1.117146</td>\n",
       "      <td>0.274344</td>\n",
       "      <td>3.339564</td>\n",
       "      <td>14.282484</td>\n",
       "      <td>0.625851</td>\n",
       "      <td>0.998859</td>\n",
       "      <td>0.124453</td>\n",
       "      <td>0.572359</td>\n",
       "      <td>2.318286</td>\n",
       "      <td>0.228572</td>\n",
       "      <td>0.709990</td>\n",
       "      <td>314.907474</td>\n",
       "      <td>0.775035</td>\n",
       "    </tr>\n",
       "    <tr>\n",
       "      <th>min</th>\n",
       "      <td>11.030000</td>\n",
       "      <td>0.740000</td>\n",
       "      <td>1.360000</td>\n",
       "      <td>10.600000</td>\n",
       "      <td>70.000000</td>\n",
       "      <td>0.980000</td>\n",
       "      <td>0.340000</td>\n",
       "      <td>0.130000</td>\n",
       "      <td>0.410000</td>\n",
       "      <td>1.280000</td>\n",
       "      <td>0.480000</td>\n",
       "      <td>1.270000</td>\n",
       "      <td>278.000000</td>\n",
       "      <td>0.000000</td>\n",
       "    </tr>\n",
       "    <tr>\n",
       "      <th>25%</th>\n",
       "      <td>12.362500</td>\n",
       "      <td>1.602500</td>\n",
       "      <td>2.210000</td>\n",
       "      <td>17.200000</td>\n",
       "      <td>88.000000</td>\n",
       "      <td>1.742500</td>\n",
       "      <td>1.205000</td>\n",
       "      <td>0.270000</td>\n",
       "      <td>1.250000</td>\n",
       "      <td>3.220000</td>\n",
       "      <td>0.782500</td>\n",
       "      <td>1.937500</td>\n",
       "      <td>500.500000</td>\n",
       "      <td>0.000000</td>\n",
       "    </tr>\n",
       "    <tr>\n",
       "      <th>50%</th>\n",
       "      <td>13.050000</td>\n",
       "      <td>1.865000</td>\n",
       "      <td>2.360000</td>\n",
       "      <td>19.500000</td>\n",
       "      <td>98.000000</td>\n",
       "      <td>2.355000</td>\n",
       "      <td>2.135000</td>\n",
       "      <td>0.340000</td>\n",
       "      <td>1.555000</td>\n",
       "      <td>4.690000</td>\n",
       "      <td>0.965000</td>\n",
       "      <td>2.780000</td>\n",
       "      <td>673.500000</td>\n",
       "      <td>1.000000</td>\n",
       "    </tr>\n",
       "    <tr>\n",
       "      <th>75%</th>\n",
       "      <td>13.677500</td>\n",
       "      <td>3.082500</td>\n",
       "      <td>2.557500</td>\n",
       "      <td>21.500000</td>\n",
       "      <td>107.000000</td>\n",
       "      <td>2.800000</td>\n",
       "      <td>2.875000</td>\n",
       "      <td>0.437500</td>\n",
       "      <td>1.950000</td>\n",
       "      <td>6.200000</td>\n",
       "      <td>1.120000</td>\n",
       "      <td>3.170000</td>\n",
       "      <td>985.000000</td>\n",
       "      <td>2.000000</td>\n",
       "    </tr>\n",
       "    <tr>\n",
       "      <th>max</th>\n",
       "      <td>14.830000</td>\n",
       "      <td>5.800000</td>\n",
       "      <td>3.230000</td>\n",
       "      <td>30.000000</td>\n",
       "      <td>162.000000</td>\n",
       "      <td>3.880000</td>\n",
       "      <td>5.080000</td>\n",
       "      <td>0.660000</td>\n",
       "      <td>3.580000</td>\n",
       "      <td>13.000000</td>\n",
       "      <td>1.710000</td>\n",
       "      <td>4.000000</td>\n",
       "      <td>1680.000000</td>\n",
       "      <td>2.000000</td>\n",
       "    </tr>\n",
       "  </tbody>\n",
       "</table>\n",
       "</div>"
      ],
      "text/plain": [
       "          alcohol  malic_acid         ash  alcalinity_of_ash   magnesium  \\\n",
       "count  178.000000  178.000000  178.000000         178.000000  178.000000   \n",
       "mean    13.000618    2.336348    2.366517          19.494944   99.741573   \n",
       "std      0.811827    1.117146    0.274344           3.339564   14.282484   \n",
       "min     11.030000    0.740000    1.360000          10.600000   70.000000   \n",
       "25%     12.362500    1.602500    2.210000          17.200000   88.000000   \n",
       "50%     13.050000    1.865000    2.360000          19.500000   98.000000   \n",
       "75%     13.677500    3.082500    2.557500          21.500000  107.000000   \n",
       "max     14.830000    5.800000    3.230000          30.000000  162.000000   \n",
       "\n",
       "       total_phenols  flavanoids  nonflavanoid_phenols  proanthocyanins  \\\n",
       "count     178.000000  178.000000            178.000000       178.000000   \n",
       "mean        2.295112    2.029270              0.361854         1.590899   \n",
       "std         0.625851    0.998859              0.124453         0.572359   \n",
       "min         0.980000    0.340000              0.130000         0.410000   \n",
       "25%         1.742500    1.205000              0.270000         1.250000   \n",
       "50%         2.355000    2.135000              0.340000         1.555000   \n",
       "75%         2.800000    2.875000              0.437500         1.950000   \n",
       "max         3.880000    5.080000              0.660000         3.580000   \n",
       "\n",
       "       color_intensity         hue  od280/od315_of_diluted_wines      proline  \\\n",
       "count       178.000000  178.000000                    178.000000   178.000000   \n",
       "mean          5.058090    0.957449                      2.611685   746.893258   \n",
       "std           2.318286    0.228572                      0.709990   314.907474   \n",
       "min           1.280000    0.480000                      1.270000   278.000000   \n",
       "25%           3.220000    0.782500                      1.937500   500.500000   \n",
       "50%           4.690000    0.965000                      2.780000   673.500000   \n",
       "75%           6.200000    1.120000                      3.170000   985.000000   \n",
       "max          13.000000    1.710000                      4.000000  1680.000000   \n",
       "\n",
       "           TARGET  \n",
       "count  178.000000  \n",
       "mean     0.938202  \n",
       "std      0.775035  \n",
       "min      0.000000  \n",
       "25%      0.000000  \n",
       "50%      1.000000  \n",
       "75%      2.000000  \n",
       "max      2.000000  "
      ]
     },
     "execution_count": 4,
     "metadata": {},
     "output_type": "execute_result"
    },
    {
     "data": {
      "text/html": [
       "<div>\n",
       "<style scoped>\n",
       "    .dataframe tbody tr th:only-of-type {\n",
       "        vertical-align: middle;\n",
       "    }\n",
       "\n",
       "    .dataframe tbody tr th {\n",
       "        vertical-align: top;\n",
       "    }\n",
       "\n",
       "    .dataframe thead th {\n",
       "        text-align: right;\n",
       "    }\n",
       "</style>\n",
       "<table border=\"1\" class=\"dataframe\">\n",
       "  <thead>\n",
       "    <tr style=\"text-align: right;\">\n",
       "      <th></th>\n",
       "      <th>alcohol</th>\n",
       "    </tr>\n",
       "    <tr>\n",
       "      <th>TARGET</th>\n",
       "      <th></th>\n",
       "    </tr>\n",
       "  </thead>\n",
       "  <tbody>\n",
       "    <tr>\n",
       "      <th>0</th>\n",
       "      <td>59</td>\n",
       "    </tr>\n",
       "    <tr>\n",
       "      <th>1</th>\n",
       "      <td>71</td>\n",
       "    </tr>\n",
       "    <tr>\n",
       "      <th>2</th>\n",
       "      <td>48</td>\n",
       "    </tr>\n",
       "  </tbody>\n",
       "</table>\n",
       "</div>"
      ],
      "text/plain": [
       "        alcohol\n",
       "TARGET         \n",
       "0            59\n",
       "1            71\n",
       "2            48"
      ]
     },
     "execution_count": 4,
     "metadata": {},
     "output_type": "execute_result"
    },
    {
     "data": {
      "text/plain": [
       "<matplotlib.axes._subplots.AxesSubplot at 0x2432f856160>"
      ]
     },
     "execution_count": 4,
     "metadata": {},
     "output_type": "execute_result"
    },
    {
     "data": {
      "image/png": "[encoded data removed]",
      "text/plain": [
       "<Figure size 576x396 with 1 Axes>"
      ]
     },
     "metadata": {},
     "output_type": "display_data"
    }
   ],
   "source": [
    "\n",
    "wine_df = pd.DataFrame(wine.data, columns=wine.feature_names)\n",
    "wine_df['TARGET'] = wine.target\n",
    "wine_df.head()\n",
    "\n",
    "wine_df.describe()\n",
    "\n",
    "wine_df[[\"TARGET\", \"alcohol\"]].groupby(\"TARGET\").count()\n",
    "\n",
    "sns.distplot(wine_df[\"TARGET\"],bins=3, kde=False)\n"
   ]
  },
  {
   "cell_type": "code",
   "execution_count": 5,
   "metadata": {},
   "outputs": [
    {
     "data": {
      "text/plain": [
       "<matplotlib.axes._subplots.AxesSubplot at 0x2432ffc7ba8>"
      ]
     },
     "execution_count": 5,
     "metadata": {},
     "output_type": "execute_result"
    },
    {
     "data": {
      "text/plain": [
       "<matplotlib.axes._subplots.AxesSubplot at 0x2432ffc7ba8>"
      ]
     },
     "execution_count": 5,
     "metadata": {},
     "output_type": "execute_result"
    },
    {
     "data": {
      "text/plain": [
       "<matplotlib.axes._subplots.AxesSubplot at 0x2432ffc7ba8>"
      ]
     },
     "execution_count": 5,
     "metadata": {},
     "output_type": "execute_result"
    },
    {
     "data": {
      "text/plain": [
       "<matplotlib.legend.Legend at 0x2432f7fedd8>"
      ]
     },
     "execution_count": 5,
     "metadata": {},
     "output_type": "execute_result"
    },
    {
     "data": {
      "image/png": "[encoded data removed]",
      "text/plain": [
       "<Figure size 576x396 with 1 Axes>"
      ]
     },
     "metadata": {},
     "output_type": "display_data"
    }
   ],
   "source": [
    "# let's plot the alcohol percentage for each class of wine\n",
    "\n",
    "for i in wine_df[\"TARGET\"].unique():\n",
    "    sns.distplot(wine_df[\"alcohol\"][wine_df[\"TARGET\"]==i], label=f'class{i:d}')\n",
    "plt.legend()\n"
   ]
  },
  {
   "cell_type": "code",
   "execution_count": 6,
   "metadata": {},
   "outputs": [
    {
     "data": {
      "text/html": [
       "<div>\n",
       "<style scoped>\n",
       "    .dataframe tbody tr th:only-of-type {\n",
       "        vertical-align: middle;\n",
       "    }\n",
       "\n",
       "    .dataframe tbody tr th {\n",
       "        vertical-align: top;\n",
       "    }\n",
       "\n",
       "    .dataframe thead th {\n",
       "        text-align: right;\n",
       "    }\n",
       "</style>\n",
       "<table border=\"1\" class=\"dataframe\">\n",
       "  <thead>\n",
       "    <tr style=\"text-align: right;\">\n",
       "      <th></th>\n",
       "      <th>alcohol</th>\n",
       "      <th>malic_acid</th>\n",
       "      <th>ash</th>\n",
       "      <th>alcalinity_of_ash</th>\n",
       "      <th>magnesium</th>\n",
       "      <th>total_phenols</th>\n",
       "      <th>flavanoids</th>\n",
       "      <th>nonflavanoid_phenols</th>\n",
       "      <th>proanthocyanins</th>\n",
       "      <th>color_intensity</th>\n",
       "      <th>hue</th>\n",
       "      <th>od280/od315_of_diluted_wines</th>\n",
       "      <th>proline</th>\n",
       "    </tr>\n",
       "  </thead>\n",
       "  <tbody>\n",
       "    <tr>\n",
       "      <th>0</th>\n",
       "      <td>0.842105</td>\n",
       "      <td>0.191700</td>\n",
       "      <td>0.572193</td>\n",
       "      <td>0.257732</td>\n",
       "      <td>0.619565</td>\n",
       "      <td>0.627586</td>\n",
       "      <td>0.573840</td>\n",
       "      <td>0.283019</td>\n",
       "      <td>0.593060</td>\n",
       "      <td>0.372014</td>\n",
       "      <td>0.455285</td>\n",
       "      <td>0.970696</td>\n",
       "      <td>0.561341</td>\n",
       "    </tr>\n",
       "    <tr>\n",
       "      <th>1</th>\n",
       "      <td>0.571053</td>\n",
       "      <td>0.205534</td>\n",
       "      <td>0.417112</td>\n",
       "      <td>0.030928</td>\n",
       "      <td>0.326087</td>\n",
       "      <td>0.575862</td>\n",
       "      <td>0.510549</td>\n",
       "      <td>0.245283</td>\n",
       "      <td>0.274448</td>\n",
       "      <td>0.264505</td>\n",
       "      <td>0.463415</td>\n",
       "      <td>0.780220</td>\n",
       "      <td>0.550642</td>\n",
       "    </tr>\n",
       "    <tr>\n",
       "      <th>2</th>\n",
       "      <td>0.560526</td>\n",
       "      <td>0.320158</td>\n",
       "      <td>0.700535</td>\n",
       "      <td>0.412371</td>\n",
       "      <td>0.336957</td>\n",
       "      <td>0.627586</td>\n",
       "      <td>0.611814</td>\n",
       "      <td>0.320755</td>\n",
       "      <td>0.757098</td>\n",
       "      <td>0.375427</td>\n",
       "      <td>0.447154</td>\n",
       "      <td>0.695971</td>\n",
       "      <td>0.646933</td>\n",
       "    </tr>\n",
       "    <tr>\n",
       "      <th>3</th>\n",
       "      <td>0.878947</td>\n",
       "      <td>0.239130</td>\n",
       "      <td>0.609626</td>\n",
       "      <td>0.319588</td>\n",
       "      <td>0.467391</td>\n",
       "      <td>0.989655</td>\n",
       "      <td>0.664557</td>\n",
       "      <td>0.207547</td>\n",
       "      <td>0.558360</td>\n",
       "      <td>0.556314</td>\n",
       "      <td>0.308943</td>\n",
       "      <td>0.798535</td>\n",
       "      <td>0.857347</td>\n",
       "    </tr>\n",
       "    <tr>\n",
       "      <th>4</th>\n",
       "      <td>0.581579</td>\n",
       "      <td>0.365613</td>\n",
       "      <td>0.807487</td>\n",
       "      <td>0.536082</td>\n",
       "      <td>0.521739</td>\n",
       "      <td>0.627586</td>\n",
       "      <td>0.495781</td>\n",
       "      <td>0.490566</td>\n",
       "      <td>0.444795</td>\n",
       "      <td>0.259386</td>\n",
       "      <td>0.455285</td>\n",
       "      <td>0.608059</td>\n",
       "      <td>0.325963</td>\n",
       "    </tr>\n",
       "  </tbody>\n",
       "</table>\n",
       "</div>"
      ],
      "text/plain": [
       "    alcohol  malic_acid       ash  alcalinity_of_ash  magnesium  \\\n",
       "0  0.842105    0.191700  0.572193           0.257732   0.619565   \n",
       "1  0.571053    0.205534  0.417112           0.030928   0.326087   \n",
       "2  0.560526    0.320158  0.700535           0.412371   0.336957   \n",
       "3  0.878947    0.239130  0.609626           0.319588   0.467391   \n",
       "4  0.581579    0.365613  0.807487           0.536082   0.521739   \n",
       "\n",
       "   total_phenols  flavanoids  nonflavanoid_phenols  proanthocyanins  \\\n",
       "0       0.627586    0.573840              0.283019         0.593060   \n",
       "1       0.575862    0.510549              0.245283         0.274448   \n",
       "2       0.627586    0.611814              0.320755         0.757098   \n",
       "3       0.989655    0.664557              0.207547         0.558360   \n",
       "4       0.627586    0.495781              0.490566         0.444795   \n",
       "\n",
       "   color_intensity       hue  od280/od315_of_diluted_wines   proline  \n",
       "0         0.372014  0.455285                      0.970696  0.561341  \n",
       "1         0.264505  0.463415                      0.780220  0.550642  \n",
       "2         0.375427  0.447154                      0.695971  0.646933  \n",
       "3         0.556314  0.308943                      0.798535  0.857347  \n",
       "4         0.259386  0.455285                      0.608059  0.325963  "
      ]
     },
     "execution_count": 6,
     "metadata": {},
     "output_type": "execute_result"
    }
   ],
   "source": [
    "# Kmeans relies in a distance metric, therefore we need to rescale all features to the same scale \n",
    "\n",
    "X = wine_df.drop(['TARGET'], axis=1)\n",
    "y = wine_df['TARGET']\n",
    "\n",
    "min_max_scaler = preprocessing.MinMaxScaler()  # by default between 0 and 1\n",
    "\n",
    "x_scaled_fit = min_max_scaler.fit(X)\n",
    "\n",
    "x_scaled = min_max_scaler.fit_transform(X)\n",
    "X_scaled = pd.DataFrame(x_scaled,columns=X.columns)\n",
    "X_scaled.head()"
   ]
  },
  {
   "cell_type": "code",
   "execution_count": 7,
   "metadata": {},
   "outputs": [
    {
     "data": {
      "text/plain": [
       "<Figure size 864x648 with 0 Axes>"
      ]
     },
     "execution_count": 7,
     "metadata": {},
     "output_type": "execute_result"
    },
    {
     "data": {
      "text/plain": [
       "KElbowVisualizer(ax=<matplotlib.axes._subplots.AxesSubplot object at 0x00000243300230F0>,\n",
       "                 k=None, locate_elbow=True, metric='distortion', model=None,\n",
       "                 timings=True)"
      ]
     },
     "execution_count": 7,
     "metadata": {},
     "output_type": "execute_result"
    },
    {
     "data": {
      "image/png": "[encoded data removed]",
      "text/plain": [
       "<Figure size 864x648 with 2 Axes>"
      ]
     },
     "metadata": {},
     "output_type": "display_data"
    },
    {
     "data": {
      "text/plain": [
       "<matplotlib.axes._subplots.AxesSubplot at 0x243300230f0>"
      ]
     },
     "execution_count": 7,
     "metadata": {},
     "output_type": "execute_result"
    }
   ],
   "source": [
    "# Elbow method\n",
    "\n",
    "plt.figure(figsize=(12,9))\n",
    "\n",
    "# Now we apply KMeans\n",
    "model = KMeans()\n",
    "\n",
    "# we want first to find out how many clusters using the elbow technique\n",
    "visualizer = KElbowVisualizer(model, k=(1,8))\n",
    "visualizer.fit(X_scaled)       \n",
    "visualizer.show()\n",
    "\n",
    "\n",
    "# we know that there are 3 wine types (target=[0,1,2]) \n",
    "# and the elbow method correctely chooses 3"
   ]
  },
  {
   "cell_type": "code",
   "execution_count": 8,
   "metadata": {},
   "outputs": [
    {
     "data": {
      "text/plain": [
       "<Figure size 864x648 with 0 Axes>"
      ]
     },
     "execution_count": 8,
     "metadata": {},
     "output_type": "execute_result"
    },
    {
     "data": {
      "text/plain": [
       "SilhouetteVisualizer(ax=<matplotlib.axes._subplots.AxesSubplot object at 0x000002433005DDA0>,\n",
       "                     colors='yellowbrick', is_fitted='auto', model=None)"
      ]
     },
     "execution_count": 8,
     "metadata": {},
     "output_type": "execute_result"
    },
    {
     "data": {
      "image/png": "[encoded data removed]",
      "text/plain": [
       "<Figure size 864x648 with 1 Axes>"
      ]
     },
     "metadata": {},
     "output_type": "display_data"
    },
    {
     "data": {
      "text/plain": [
       "<matplotlib.axes._subplots.AxesSubplot at 0x2433005dda0>"
      ]
     },
     "execution_count": 8,
     "metadata": {},
     "output_type": "execute_result"
    }
   ],
   "source": [
    "# Now we use Silhoutte to visualize the compactness of the clusters\n",
    "\n",
    "plt.figure(figsize=(12,9))\n",
    "\n",
    "#model = KMeans(3)\n",
    "#model=MiniBatchKMeans(n_clusters=3, verbose=True).fit(X_scaled)\n",
    "\n",
    "model=MiniBatchKMeans(n_clusters=3).fit(X_scaled)\n",
    "\n",
    "\n",
    "visualizer = SilhouetteVisualizer(model, colors='yellowbrick')\n",
    "visualizer.fit(X_scaled)      \n",
    "visualizer.show()\n"
   ]
  },
  {
   "cell_type": "code",
   "execution_count": 9,
   "metadata": {},
   "outputs": [
    {
     "data": {
      "text/plain": [
       "<Figure size 864x648 with 0 Axes>"
      ]
     },
     "execution_count": 9,
     "metadata": {},
     "output_type": "execute_result"
    },
    {
     "data": {
      "text/plain": [
       "InterclusterDistance(ax=<matplotlib.axes._subplots.AxesSubplot object at 0x0000024330560B38>,\n",
       "                     embedding='mds', is_fitted='auto', legend=True,\n",
       "                     legend_loc='lower left', legend_size=1.5, max_size=25000,\n",
       "                     min_size=10000, model=None, random_state=None,\n",
       "                     scoring='membership')"
      ]
     },
     "execution_count": 9,
     "metadata": {},
     "output_type": "execute_result"
    },
    {
     "data": {
      "image/png": "[encoded data removed]",
      "text/plain": [
       "<Figure size 864x648 with 2 Axes>"
      ]
     },
     "metadata": {},
     "output_type": "display_data"
    },
    {
     "data": {
      "text/plain": [
       "<matplotlib.axes._subplots.AxesSubplot at 0x24330560b38>"
      ]
     },
     "execution_count": 9,
     "metadata": {},
     "output_type": "execute_result"
    }
   ],
   "source": [
    "# Inter cluster distance \n",
    "\n",
    "plt.figure(figsize=(12,9))\n",
    "\n",
    "#model=MiniBatchKMeans(n_clusters=3).fit(X_scaled)\n",
    "\n",
    "visualizer = InterclusterDistance(model, min_size=10000)\n",
    "#visualizer = InterclusterDistance(model)\n",
    "visualizer.fit(X_scaled)\n",
    "visualizer.show()\n"
   ]
  },
  {
   "cell_type": "code",
   "execution_count": 10,
   "metadata": {},
   "outputs": [
    {
     "data": {
      "text/plain": [
       "<Figure size 864x648 with 0 Axes>"
      ]
     },
     "execution_count": 10,
     "metadata": {},
     "output_type": "execute_result"
    },
    {
     "name": "stderr",
     "output_type": "stream",
     "text": [
      "C:\\Users\\Daniel Beck\\Anaconda3\\lib\\site-packages\\sklearn\\model_selection\\_split.py:1978: FutureWarning: The default value of cv will change from 3 to 5 in version 0.22. Specify it explicitly to silence this warning.\n",
      "  warnings.warn(CV_WARNING, FutureWarning)\n"
     ]
    },
    {
     "data": {
      "text/plain": [
       "LearningCurve(ax=<matplotlib.axes._subplots.AxesSubplot object at 0x0000024331377198>,\n",
       "              cv=None, exploit_incremental_learning=False, groups=None,\n",
       "              model=None, n_jobs=1, pre_dispatch='all', random_state=None,\n",
       "              scoring='adjusted_rand_score', shuffle=False,\n",
       "              train_sizes=array([0.1  , 0.325, 0.55 , 0.775, 1.   ]))"
      ]
     },
     "execution_count": 10,
     "metadata": {},
     "output_type": "execute_result"
    },
    {
     "data": {
      "image/png": "[encoded data removed]",
      "text/plain": [
       "<Figure size 864x648 with 1 Axes>"
      ]
     },
     "metadata": {},
     "output_type": "display_data"
    },
    {
     "data": {
      "text/plain": [
       "<matplotlib.axes._subplots.AxesSubplot at 0x24331377198>"
      ]
     },
     "execution_count": 10,
     "metadata": {},
     "output_type": "execute_result"
    }
   ],
   "source": [
    "# Learning Curve\n",
    "plt.figure(figsize=(12,9))\n",
    "\n",
    "model = KMeans()\n",
    "\n",
    "visualizer = LearningCurve(model, scoring=\"adjusted_rand_score\")\n",
    "\n",
    "visualizer.fit(X_scaled, y)        # Fit the data to the visualizer\n",
    "visualizer.show()                  # Finalize and render the figure"
   ]
  },
  {
   "cell_type": "code",
   "execution_count": 11,
   "metadata": {},
   "outputs": [
    {
     "data": {
      "text/plain": [
       "MiniBatchKMeans(batch_size=100, compute_labels=True, init='k-means++',\n",
       "                init_size=None, max_iter=100, max_no_improvement=10,\n",
       "                n_clusters=3, n_init=3, random_state=None,\n",
       "                reassignment_ratio=0.01, tol=0.0, verbose=0)"
      ]
     },
     "execution_count": 11,
     "metadata": {},
     "output_type": "execute_result"
    },
    {
     "name": "stdout",
     "output_type": "stream",
     "text": [
      "Predicted labels ----\n",
      "[1 1 1 1 1 1 1 1 1 1 1 1 1 1 1 1 1 1 1 1 1 1 1 1 1 1 1 1 1 1 1 1 1 1 1 1 1\n",
      " 1 1 1 1 1 1 1 1 1 1 1 1 1 1 1 1 1 1 1 1 1 1 0 2 2 0 0 0 0 0 0 2 0 2 0 0 1\n",
      " 0 0 0 0 0 0 0 0 0 2 0 0 0 0 0 0 0 0 2 0 0 1 0 0 0 0 0 0 0 0 0 0 0 0 0 0 0\n",
      " 0 0 0 0 0 0 0 2 0 0 0 0 0 0 0 0 0 0 0 2 2 2 2 2 2 2 2 2 2 2 2 2 2 2 2 2 2\n",
      " 2 2 2 2 2 2 2 2 2 2 2 2 2 2 2 2 2 2 2 2 2 2 2 2 2 2 2 2 2 2]\n",
      "\n",
      "Actual    labels ----\n",
      "[0 0 0 0 0 0 0 0 0 0 0 0 0 0 0 0 0 0 0 0 0 0 0 0 0 0 0 0 0 0 0 0 0 0 0 0 0\n",
      " 0 0 0 0 0 0 0 0 0 0 0 0 0 0 0 0 0 0 0 0 0 0 1 1 1 1 1 1 1 1 1 1 1 1 1 1 1\n",
      " 1 1 1 1 1 1 1 1 1 1 1 1 1 1 1 1 1 1 1 1 1 1 1 1 1 1 1 1 1 1 1 1 1 1 1 1 1\n",
      " 1 1 1 1 1 1 1 1 1 1 1 1 1 1 1 1 1 1 1 2 2 2 2 2 2 2 2 2 2 2 2 2 2 2 2 2 2\n",
      " 2 2 2 2 2 2 2 2 2 2 2 2 2 2 2 2 2 2 2 2 2 2 2 2 2 2 2 2 2 2]\n",
      "\n",
      " ---- Watch the labels ----\n",
      "Accuracy 28.090\n"
     ]
    }
   ],
   "source": [
    "# Can we calculate accuracy ???\n",
    "\n",
    "#model=KMeans(3)\n",
    "model=MiniBatchKMeans(n_clusters=3)\n",
    "\n",
    "model.fit(X_scaled)\n",
    "\n",
    "print(\"Predicted labels ----\")\n",
    "print(model.predict(X_scaled))\n",
    "print()\n",
    "print(\"Actual    labels ----\")\n",
    "print(y.values)\n",
    "print()\n",
    "\n",
    "print(\" ---- Watch the labels ----\")\n",
    "\n",
    "acc_score=accuracy_score(y.values,model.predict(X_scaled))\n",
    "print(f'Accuracy {acc_score*100:.3f}')\n"
   ]
  },
  {
   "cell_type": "markdown",
   "metadata": {},
   "source": [
    "<h3>Silhouette score</h3>\n",
    "\n",
    "The silhouette value is a measure of how similar an object is to its own cluster (cohesion) compared to other clusters (separation). \n",
    "\n",
    "The silhouette ranges from −1 to +1, where a high value indicates that the object is well matched to its own cluster and poorly matched to neighboring clusters. If most objects have a high value, then the clustering configuration is appropriate. \n",
    "\n",
    "If many points have a low or negative value, then the clustering configuration may have too many or too few clusters.\n",
    "<p style=\"margin-left:200px\"><b>\n",
    "    a : mean distance between a sample and all other points in the same class. <br>\n",
    "    b : mean distance between a sample and all other points in the next nearest cluster.\n",
    "</b></p>\n",
    "<br>\n",
    "<p><b>\n",
    "$$\\large{s=\\frac{b-a}{max(a,b}}$$\n",
    "</b></p>"
   ]
  },
  {
   "cell_type": "code",
   "execution_count": 12,
   "metadata": {},
   "outputs": [
    {
     "name": "stdout",
     "output_type": "stream",
     "text": [
      "Silhouette score 0.300894\n"
     ]
    }
   ],
   "source": [
    "# Silhouette score\n",
    "\n",
    "from sklearn import metrics\n",
    "\n",
    "she=metrics.silhouette_score(X_scaled, model.labels_, metric=\"euclidean\")\n",
    "print(f'Silhouette score {she:5f}')"
   ]
  },
  {
   "cell_type": "code",
   "execution_count": 13,
   "metadata": {},
   "outputs": [
    {
     "data": {
      "text/plain": [
       "array([1, 1, 1, 1, 1, 1, 1, 1, 1, 1, 1, 1, 1, 1, 1, 1, 1, 1, 1, 1, 1, 1,\n",
       "       1, 1, 1, 1, 1, 1, 1, 1, 1, 1, 1, 1, 1, 1, 1, 1, 1, 1, 1, 1, 1, 1,\n",
       "       1, 1, 1, 1, 1, 1, 1, 1, 1, 1, 1, 1, 1, 1, 1, 0, 2, 2, 0, 0, 0, 0,\n",
       "       0, 0, 2, 0, 2, 0, 0, 1, 0, 0, 0, 0, 0, 0, 0, 0, 0, 2, 0, 0, 0, 0,\n",
       "       0, 0, 0, 0, 2, 0, 0, 1, 0, 0, 0, 0, 0, 0, 0, 0, 0, 0, 0, 0, 0, 0,\n",
       "       0, 0, 0, 0, 0, 0, 0, 0, 2, 0, 0, 0, 0, 0, 0, 0, 0, 0, 0, 0, 2, 2,\n",
       "       2, 2, 2, 2, 2, 2, 2, 2, 2, 2, 2, 2, 2, 2, 2, 2, 2, 2, 2, 2, 2, 2,\n",
       "       2, 2, 2, 2, 2, 2, 2, 2, 2, 2, 2, 2, 2, 2, 2, 2, 2, 2, 2, 2, 2, 2,\n",
       "       2, 2])"
      ]
     },
     "execution_count": 13,
     "metadata": {},
     "output_type": "execute_result"
    },
    {
     "data": {
      "text/plain": [
       "array([[0.30665222, 0.24184842, 0.47563155, 0.49452086, 0.24940783,\n",
       "        0.45509727, 0.38256659, 0.41520855, 0.40251755, 0.14714608,\n",
       "        0.46933995, 0.58812052, 0.15793505],\n",
       "       [0.71120445, 0.25391203, 0.58898944, 0.35154639, 0.41925864,\n",
       "        0.64991158, 0.55599643, 0.29465409, 0.47642967, 0.3584821 ,\n",
       "        0.47750678, 0.69304969, 0.59417865],\n",
       "       [0.54249687, 0.48167819, 0.56286606, 0.53571429, 0.31259705,\n",
       "        0.24880439, 0.10461247, 0.62881851, 0.22194213, 0.49103461,\n",
       "        0.19477594, 0.16293825, 0.25148279]])"
      ]
     },
     "execution_count": 13,
     "metadata": {},
     "output_type": "execute_result"
    },
    {
     "data": {
      "text/html": [
       "<div>\n",
       "<style scoped>\n",
       "    .dataframe tbody tr th:only-of-type {\n",
       "        vertical-align: middle;\n",
       "    }\n",
       "\n",
       "    .dataframe tbody tr th {\n",
       "        vertical-align: top;\n",
       "    }\n",
       "\n",
       "    .dataframe thead th {\n",
       "        text-align: right;\n",
       "    }\n",
       "</style>\n",
       "<table border=\"1\" class=\"dataframe\">\n",
       "  <thead>\n",
       "    <tr style=\"text-align: right;\">\n",
       "      <th></th>\n",
       "      <th>alcohol</th>\n",
       "      <th>malic_acid</th>\n",
       "      <th>ash</th>\n",
       "      <th>alcalinity_of_ash</th>\n",
       "      <th>magnesium</th>\n",
       "      <th>total_phenols</th>\n",
       "      <th>flavanoids</th>\n",
       "      <th>nonflavanoid_phenols</th>\n",
       "      <th>proanthocyanins</th>\n",
       "      <th>color_intensity</th>\n",
       "      <th>hue</th>\n",
       "      <th>od280/od315_of_diluted_wines</th>\n",
       "      <th>proline</th>\n",
       "    </tr>\n",
       "  </thead>\n",
       "  <tbody>\n",
       "    <tr>\n",
       "      <th>0</th>\n",
       "      <td>0.306652</td>\n",
       "      <td>0.241848</td>\n",
       "      <td>0.475632</td>\n",
       "      <td>0.494521</td>\n",
       "      <td>0.249408</td>\n",
       "      <td>0.455097</td>\n",
       "      <td>0.382567</td>\n",
       "      <td>0.415209</td>\n",
       "      <td>0.402518</td>\n",
       "      <td>0.147146</td>\n",
       "      <td>0.469340</td>\n",
       "      <td>0.588121</td>\n",
       "      <td>0.157935</td>\n",
       "    </tr>\n",
       "    <tr>\n",
       "      <th>1</th>\n",
       "      <td>0.711204</td>\n",
       "      <td>0.253912</td>\n",
       "      <td>0.588989</td>\n",
       "      <td>0.351546</td>\n",
       "      <td>0.419259</td>\n",
       "      <td>0.649912</td>\n",
       "      <td>0.555996</td>\n",
       "      <td>0.294654</td>\n",
       "      <td>0.476430</td>\n",
       "      <td>0.358482</td>\n",
       "      <td>0.477507</td>\n",
       "      <td>0.693050</td>\n",
       "      <td>0.594179</td>\n",
       "    </tr>\n",
       "    <tr>\n",
       "      <th>2</th>\n",
       "      <td>0.542497</td>\n",
       "      <td>0.481678</td>\n",
       "      <td>0.562866</td>\n",
       "      <td>0.535714</td>\n",
       "      <td>0.312597</td>\n",
       "      <td>0.248804</td>\n",
       "      <td>0.104612</td>\n",
       "      <td>0.628819</td>\n",
       "      <td>0.221942</td>\n",
       "      <td>0.491035</td>\n",
       "      <td>0.194776</td>\n",
       "      <td>0.162938</td>\n",
       "      <td>0.251483</td>\n",
       "    </tr>\n",
       "  </tbody>\n",
       "</table>\n",
       "</div>"
      ],
      "text/plain": [
       "    alcohol  malic_acid       ash  alcalinity_of_ash  magnesium  \\\n",
       "0  0.306652    0.241848  0.475632           0.494521   0.249408   \n",
       "1  0.711204    0.253912  0.588989           0.351546   0.419259   \n",
       "2  0.542497    0.481678  0.562866           0.535714   0.312597   \n",
       "\n",
       "   total_phenols  flavanoids  nonflavanoid_phenols  proanthocyanins  \\\n",
       "0       0.455097    0.382567              0.415209         0.402518   \n",
       "1       0.649912    0.555996              0.294654         0.476430   \n",
       "2       0.248804    0.104612              0.628819         0.221942   \n",
       "\n",
       "   color_intensity       hue  od280/od315_of_diluted_wines   proline  \n",
       "0         0.147146  0.469340                      0.588121  0.157935  \n",
       "1         0.358482  0.477507                      0.693050  0.594179  \n",
       "2         0.491035  0.194776                      0.162938  0.251483  "
      ]
     },
     "execution_count": 13,
     "metadata": {},
     "output_type": "execute_result"
    },
    {
     "data": {
      "text/html": [
       "<div>\n",
       "<style scoped>\n",
       "    .dataframe tbody tr th:only-of-type {\n",
       "        vertical-align: middle;\n",
       "    }\n",
       "\n",
       "    .dataframe tbody tr th {\n",
       "        vertical-align: top;\n",
       "    }\n",
       "\n",
       "    .dataframe thead th {\n",
       "        text-align: right;\n",
       "    }\n",
       "</style>\n",
       "<table border=\"1\" class=\"dataframe\">\n",
       "  <thead>\n",
       "    <tr style=\"text-align: right;\">\n",
       "      <th></th>\n",
       "      <th>alcohol</th>\n",
       "      <th>malic_acid</th>\n",
       "      <th>ash</th>\n",
       "      <th>alcalinity_of_ash</th>\n",
       "      <th>magnesium</th>\n",
       "      <th>total_phenols</th>\n",
       "      <th>flavanoids</th>\n",
       "      <th>nonflavanoid_phenols</th>\n",
       "      <th>proanthocyanins</th>\n",
       "      <th>color_intensity</th>\n",
       "      <th>hue</th>\n",
       "      <th>od280/od315_of_diluted_wines</th>\n",
       "      <th>proline</th>\n",
       "    </tr>\n",
       "  </thead>\n",
       "  <tbody>\n",
       "    <tr>\n",
       "      <th>0</th>\n",
       "      <td>12.195278</td>\n",
       "      <td>1.963753</td>\n",
       "      <td>2.249431</td>\n",
       "      <td>20.193705</td>\n",
       "      <td>92.945521</td>\n",
       "      <td>2.299782</td>\n",
       "      <td>2.153366</td>\n",
       "      <td>0.350061</td>\n",
       "      <td>1.685981</td>\n",
       "      <td>3.004552</td>\n",
       "      <td>1.057288</td>\n",
       "      <td>2.875569</td>\n",
       "      <td>499.424939</td>\n",
       "    </tr>\n",
       "    <tr>\n",
       "      <th>1</th>\n",
       "      <td>13.732577</td>\n",
       "      <td>2.024795</td>\n",
       "      <td>2.461410</td>\n",
       "      <td>17.420000</td>\n",
       "      <td>108.571795</td>\n",
       "      <td>2.864744</td>\n",
       "      <td>2.975423</td>\n",
       "      <td>0.286167</td>\n",
       "      <td>1.920282</td>\n",
       "      <td>5.481410</td>\n",
       "      <td>1.067333</td>\n",
       "      <td>3.162026</td>\n",
       "      <td>1111.038462</td>\n",
       "    </tr>\n",
       "    <tr>\n",
       "      <th>2</th>\n",
       "      <td>13.091488</td>\n",
       "      <td>3.177292</td>\n",
       "      <td>2.412560</td>\n",
       "      <td>20.992857</td>\n",
       "      <td>98.758929</td>\n",
       "      <td>1.701533</td>\n",
       "      <td>0.835863</td>\n",
       "      <td>0.463274</td>\n",
       "      <td>1.113557</td>\n",
       "      <td>7.034926</td>\n",
       "      <td>0.719574</td>\n",
       "      <td>1.714821</td>\n",
       "      <td>630.578869</td>\n",
       "    </tr>\n",
       "  </tbody>\n",
       "</table>\n",
       "</div>"
      ],
      "text/plain": [
       "     alcohol  malic_acid       ash  alcalinity_of_ash   magnesium  \\\n",
       "0  12.195278    1.963753  2.249431          20.193705   92.945521   \n",
       "1  13.732577    2.024795  2.461410          17.420000  108.571795   \n",
       "2  13.091488    3.177292  2.412560          20.992857   98.758929   \n",
       "\n",
       "   total_phenols  flavanoids  nonflavanoid_phenols  proanthocyanins  \\\n",
       "0       2.299782    2.153366              0.350061         1.685981   \n",
       "1       2.864744    2.975423              0.286167         1.920282   \n",
       "2       1.701533    0.835863              0.463274         1.113557   \n",
       "\n",
       "   color_intensity       hue  od280/od315_of_diluted_wines      proline  \n",
       "0         3.004552  1.057288                      2.875569   499.424939  \n",
       "1         5.481410  1.067333                      3.162026  1111.038462  \n",
       "2         7.034926  0.719574                      1.714821   630.578869  "
      ]
     },
     "execution_count": 13,
     "metadata": {},
     "output_type": "execute_result"
    }
   ],
   "source": [
    "#Centroids\n",
    "\n",
    "model.labels_\n",
    "model.cluster_centers_\n",
    "\n",
    "pd.DataFrame(model.cluster_centers_, columns=X.columns)\n",
    "\n",
    "# BECAUSE WE SCALED WE HAVE TO BRING IT BACK TO THE ORIGINAL RANGES\n",
    "\n",
    "pd.DataFrame(x_scaled_fit.inverse_transform(model.cluster_centers_),columns=X.columns)\n",
    "\n",
    "# --- Now with these values we can have an interpretation of what each cluster means ---"
   ]
  },
  {
   "cell_type": "markdown",
   "metadata": {},
   "source": [
    "<h1>Agglomerative Hierarchical Clustering</h1>\n",
    "\n",
    "Agglomerative hierarchical clustering differs from k-means in a key way. \n",
    "Rather than choosing a number of clusters and starting out with random centroids, we instead begin \n",
    "with every point in our dataset as a “cluster.” Then we \u0000nd the two closest points and combine them into a cluster. \n",
    "Then, we \u0000nd the next closest points, and those become a cluster. \n",
    "\n",
    "We repeat the process until we only have one big giant cluster.\n",
    "\n",
    "<img src=\"dendrogram.png\">"
   ]
  },
  {
   "cell_type": "code",
   "execution_count": 14,
   "metadata": {},
   "outputs": [
    {
     "data": {
      "text/plain": [
       "<Figure size 1224x648 with 0 Axes>"
      ]
     },
     "execution_count": 14,
     "metadata": {},
     "output_type": "execute_result"
    },
    {
     "data": {
      "image/png": "[encoded data removed]",
      "text/plain": [
       "<Figure size 1224x648 with 1 Axes>"
      ]
     },
     "metadata": {},
     "output_type": "display_data"
    },
    {
     "name": "stdout",
     "output_type": "stream",
     "text": [
      "predictions --- \n"
     ]
    },
    {
     "data": {
      "text/plain": [
       "array([2, 2, 2, 2, 0, 2, 2, 2, 2, 2, 2, 2, 2, 2, 2, 2, 2, 2, 2, 2, 2, 2,\n",
       "       2, 2, 2, 0, 2, 2, 2, 2, 2, 2, 2, 2, 2, 2, 2, 2, 2, 2, 2, 2, 2, 2,\n",
       "       2, 2, 2, 2, 2, 2, 2, 2, 2, 2, 2, 2, 2, 2, 2, 0, 0, 0, 0, 0, 0, 0,\n",
       "       0, 0, 0, 0, 0, 0, 0, 0, 0, 0, 0, 0, 0, 0, 0, 0, 0, 1, 0, 0, 0, 0,\n",
       "       0, 0, 0, 0, 0, 0, 0, 0, 0, 0, 0, 0, 0, 0, 0, 0, 0, 0, 0, 0, 0, 0,\n",
       "       0, 0, 0, 0, 0, 0, 0, 0, 1, 0, 0, 0, 0, 0, 0, 0, 0, 0, 0, 0, 1, 1,\n",
       "       1, 1, 1, 1, 1, 1, 1, 1, 1, 1, 1, 1, 1, 1, 1, 1, 1, 1, 1, 1, 1, 1,\n",
       "       1, 1, 1, 1, 1, 1, 1, 1, 1, 1, 1, 1, 1, 1, 1, 1, 1, 1, 1, 1, 1, 1,\n",
       "       1, 1], dtype=int64)"
      ]
     },
     "execution_count": 14,
     "metadata": {},
     "output_type": "execute_result"
    },
    {
     "name": "stdout",
     "output_type": "stream",
     "text": [
      "labels --- \n"
     ]
    },
    {
     "data": {
      "text/plain": [
       "array([2, 2, 2, 2, 0, 2, 2, 2, 2, 2, 2, 2, 2, 2, 2, 2, 2, 2, 2, 2, 2, 2,\n",
       "       2, 2, 2, 0, 2, 2, 2, 2, 2, 2, 2, 2, 2, 2, 2, 2, 2, 2, 2, 2, 2, 2,\n",
       "       2, 2, 2, 2, 2, 2, 2, 2, 2, 2, 2, 2, 2, 2, 2, 0, 0, 0, 0, 0, 0, 0,\n",
       "       0, 0, 0, 0, 0, 0, 0, 0, 0, 0, 0, 0, 0, 0, 0, 0, 0, 1, 0, 0, 0, 0,\n",
       "       0, 0, 0, 0, 0, 0, 0, 0, 0, 0, 0, 0, 0, 0, 0, 0, 0, 0, 0, 0, 0, 0,\n",
       "       0, 0, 0, 0, 0, 0, 0, 0, 1, 0, 0, 0, 0, 0, 0, 0, 0, 0, 0, 0, 1, 1,\n",
       "       1, 1, 1, 1, 1, 1, 1, 1, 1, 1, 1, 1, 1, 1, 1, 1, 1, 1, 1, 1, 1, 1,\n",
       "       1, 1, 1, 1, 1, 1, 1, 1, 1, 1, 1, 1, 1, 1, 1, 1, 1, 1, 1, 1, 1, 1,\n",
       "       1, 1], dtype=int64)"
      ]
     },
     "execution_count": 14,
     "metadata": {},
     "output_type": "execute_result"
    },
    {
     "name": "stdout",
     "output_type": "stream",
     "text": [
      "pre-assigned labels --- \n"
     ]
    },
    {
     "data": {
      "text/plain": [
       "array([0, 0, 0, 0, 0, 0, 0, 0, 0, 0, 0, 0, 0, 0, 0, 0, 0, 0, 0, 0, 0, 0,\n",
       "       0, 0, 0, 0, 0, 0, 0, 0, 0, 0, 0, 0, 0, 0, 0, 0, 0, 0, 0, 0, 0, 0,\n",
       "       0, 0, 0, 0, 0, 0, 0, 0, 0, 0, 0, 0, 0, 0, 0, 1, 1, 1, 1, 1, 1, 1,\n",
       "       1, 1, 1, 1, 1, 1, 1, 1, 1, 1, 1, 1, 1, 1, 1, 1, 1, 1, 1, 1, 1, 1,\n",
       "       1, 1, 1, 1, 1, 1, 1, 1, 1, 1, 1, 1, 1, 1, 1, 1, 1, 1, 1, 1, 1, 1,\n",
       "       1, 1, 1, 1, 1, 1, 1, 1, 1, 1, 1, 1, 1, 1, 1, 1, 1, 1, 1, 1, 2, 2,\n",
       "       2, 2, 2, 2, 2, 2, 2, 2, 2, 2, 2, 2, 2, 2, 2, 2, 2, 2, 2, 2, 2, 2,\n",
       "       2, 2, 2, 2, 2, 2, 2, 2, 2, 2, 2, 2, 2, 2, 2, 2, 2, 2, 2, 2, 2, 2,\n",
       "       2, 2])"
      ]
     },
     "execution_count": 14,
     "metadata": {},
     "output_type": "execute_result"
    },
    {
     "name": "stdout",
     "output_type": "stream",
     "text": [
      "Accuracy 97.753\n"
     ]
    }
   ],
   "source": [
    " # import hierarchical clustering libraries\n",
    "import scipy.cluster.hierarchy as sch\n",
    "from sklearn.cluster import AgglomerativeClustering\n",
    "\n",
    "plt.figure(figsize=(17,9))\n",
    "\n",
    "# create dendrogram\n",
    "dn = sch.dendrogram(sch.linkage(X_scaled, method='ward'), no_labels=True)\n",
    "plt.show()\n",
    "\n",
    "# create clusters\n",
    "hc = AgglomerativeClustering(n_clusters=3, affinity = 'euclidean', linkage = 'ward')\n",
    "\n",
    "# save clusters for chart y_hc = hc.fit_predict(points)\n",
    "print(\"predictions --- \")\n",
    "y_hc = hc.fit_predict(X_scaled)\n",
    "y_hc\n",
    "\n",
    "print(\"labels --- \")\n",
    "hc.labels_\n",
    "\n",
    "print(\"pre-assigned labels --- \")\n",
    "y.values\n",
    "\n",
    "dk={0:2,1:0,2:1}\n",
    "acc_score=accuracy_score(list(map(lambda x:dk[x],y.values)),hc.labels_)\n",
    "print(f'Accuracy {acc_score*100:.3f}')\n"
   ]
  },
  {
   "cell_type": "markdown",
   "metadata": {},
   "source": [
    "<b><font color=\"red\" size=6>Mission 1</font>\n",
    "\n",
    "a) Cluster Europe using the EUindicators dataset and explain the clusterization using the centroids.<br><br>\n",
    "b) Same for the credit card dataset. \n",
    "<br><br>\n",
    "</b>"
   ]
  },
  {
   "cell_type": "code",
   "execution_count": 15,
   "metadata": {},
   "outputs": [
    {
     "data": {
      "text/html": [
       "<div>\n",
       "<style scoped>\n",
       "    .dataframe tbody tr th:only-of-type {\n",
       "        vertical-align: middle;\n",
       "    }\n",
       "\n",
       "    .dataframe tbody tr th {\n",
       "        vertical-align: top;\n",
       "    }\n",
       "\n",
       "    .dataframe thead th {\n",
       "        text-align: right;\n",
       "    }\n",
       "</style>\n",
       "<table border=\"1\" class=\"dataframe\">\n",
       "  <thead>\n",
       "    <tr style=\"text-align: right;\">\n",
       "      <th></th>\n",
       "      <th>Country</th>\n",
       "      <th>Construction Confidence Indicator</th>\n",
       "      <th>Consumer Confidence Indicator</th>\n",
       "      <th>Industrial Confidence Indicator</th>\n",
       "      <th>Retail Confidence Indicator</th>\n",
       "      <th>Service Confidence Indicator</th>\n",
       "      <th>Business Confidence Indicator (avg)</th>\n",
       "    </tr>\n",
       "  </thead>\n",
       "  <tbody>\n",
       "    <tr>\n",
       "      <th>0</th>\n",
       "      <td>Czech Republic</td>\n",
       "      <td>-19.7</td>\n",
       "      <td>3.5</td>\n",
       "      <td>3.1</td>\n",
       "      <td>19.8</td>\n",
       "      <td>33.1</td>\n",
       "      <td>9.075</td>\n",
       "    </tr>\n",
       "    <tr>\n",
       "      <th>1</th>\n",
       "      <td>Germany</td>\n",
       "      <td>-2.2</td>\n",
       "      <td>0.9</td>\n",
       "      <td>1.0</td>\n",
       "      <td>-3.7</td>\n",
       "      <td>18.5</td>\n",
       "      <td>3.400</td>\n",
       "    </tr>\n",
       "    <tr>\n",
       "      <th>2</th>\n",
       "      <td>Denmark</td>\n",
       "      <td>-4.3</td>\n",
       "      <td>15.0</td>\n",
       "      <td>-3.9</td>\n",
       "      <td>8.5</td>\n",
       "      <td>8.2</td>\n",
       "      <td>2.125</td>\n",
       "    </tr>\n",
       "    <tr>\n",
       "      <th>3</th>\n",
       "      <td>Finland</td>\n",
       "      <td>-4.0</td>\n",
       "      <td>14.9</td>\n",
       "      <td>-3.0</td>\n",
       "      <td>-4.7</td>\n",
       "      <td>11.0</td>\n",
       "      <td>-0.175</td>\n",
       "    </tr>\n",
       "    <tr>\n",
       "      <th>4</th>\n",
       "      <td>Luxembourg</td>\n",
       "      <td>5.2</td>\n",
       "      <td>6.7</td>\n",
       "      <td>-15.7</td>\n",
       "      <td>-5.7</td>\n",
       "      <td>NaN</td>\n",
       "      <td>-5.400</td>\n",
       "    </tr>\n",
       "  </tbody>\n",
       "</table>\n",
       "</div>"
      ],
      "text/plain": [
       "          Country     Construction Confidence Indicator   \\\n",
       "0   Czech Republic                                 -19.7   \n",
       "1          Germany                                  -2.2   \n",
       "2          Denmark                                  -4.3   \n",
       "3          Finland                                  -4.0   \n",
       "4       Luxembourg                                   5.2   \n",
       "\n",
       "    Consumer Confidence Indicator    Industrial Confidence Indicator   \\\n",
       "0                              3.5                                3.1   \n",
       "1                              0.9                                1.0   \n",
       "2                             15.0                               -3.9   \n",
       "3                             14.9                               -3.0   \n",
       "4                              6.7                              -15.7   \n",
       "\n",
       "    Retail Confidence Indicator    Service Confidence Indicator   \\\n",
       "0                           19.8                            33.1   \n",
       "1                           -3.7                            18.5   \n",
       "2                            8.5                             8.2   \n",
       "3                           -4.7                            11.0   \n",
       "4                           -5.7                             NaN   \n",
       "\n",
       "    Business Confidence Indicator (avg)   \n",
       "0                                  9.075  \n",
       "1                                  3.400  \n",
       "2                                  2.125  \n",
       "3                                 -0.175  \n",
       "4                                 -5.400  "
      ]
     },
     "execution_count": 15,
     "metadata": {},
     "output_type": "execute_result"
    },
    {
     "name": "stdout",
     "output_type": "stream",
     "text": [
      " Country                                 0\n",
      " Construction Confidence Indicator       1\n",
      " Consumer Confidence Indicator           0\n",
      " Industrial Confidence Indicator         1\n",
      " Retail Confidence Indicator             1\n",
      " Service Confidence Indicator            2\n",
      " Business Confidence Indicator (avg)     1\n",
      "dtype: int64\n"
     ]
    }
   ],
   "source": [
    "headers = ['Country', 'Construction Confidence Indicator',\n",
    "       'Consumer Confidence Indicator', 'Industrial Confidence Indicator',\n",
    "       'Retail Confidence Indicator', 'Service Confidence Indicator ',\n",
    "       'Business Confidence Indicator (avg)', 'TARGET']\n",
    "EU = pd.read_excel(\"EUIndicators.xlsx\", headers = headers)\n",
    "EU.head()\n",
    "print(EU.isna().sum())\n",
    "EU = EU.dropna()\n",
    "EU = pd.DataFrame(EU)"
   ]
  },
  {
   "cell_type": "code",
   "execution_count": 16,
   "metadata": {},
   "outputs": [
    {
     "data": {
      "text/plain": [
       "<Figure size 864x648 with 0 Axes>"
      ]
     },
     "execution_count": 16,
     "metadata": {},
     "output_type": "execute_result"
    },
    {
     "name": "stdout",
     "output_type": "stream",
     "text": [
      "################### Elbow Method ###################\n"
     ]
    },
    {
     "data": {
      "text/plain": [
       "KElbowVisualizer(ax=<matplotlib.axes._subplots.AxesSubplot object at 0x00000243318636A0>,\n",
       "                 k=None, locate_elbow=True, metric='distortion', model=None,\n",
       "                 timings=True)"
      ]
     },
     "execution_count": 16,
     "metadata": {},
     "output_type": "execute_result"
    },
    {
     "data": {
      "image/png": "[encoded data removed]",
      "text/plain": [
       "<Figure size 864x648 with 2 Axes>"
      ]
     },
     "metadata": {},
     "output_type": "display_data"
    },
    {
     "data": {
      "text/plain": [
       "<matplotlib.axes._subplots.AxesSubplot at 0x243318636a0>"
      ]
     },
     "execution_count": 16,
     "metadata": {},
     "output_type": "execute_result"
    },
    {
     "name": "stdout",
     "output_type": "stream",
     "text": [
      "#################################\n",
      "Elbow method suggests 3 clusters\n"
     ]
    }
   ],
   "source": [
    "# Choose EU indicators\n",
    "X = EU.drop([' Country  '], axis=1)\n",
    "\n",
    "# Kmeans relies in a distance metric, therefore we need to rescale all features to the same scale \n",
    "min_max_scaler = preprocessing.MinMaxScaler()  # by default between 0 and 1\n",
    "x_scaled_fit = min_max_scaler.fit(X)\n",
    "x_scaled = min_max_scaler.fit_transform(X)\n",
    "X_scaled = pd.DataFrame(x_scaled,columns=X.columns)\n",
    "\n",
    "# Elbow method\n",
    "plt.figure(figsize=(12,9))\n",
    "\n",
    "#KMeans\n",
    "model = KMeans()\n",
    "\n",
    "#Elbow Method\n",
    "print(\"################### Elbow Method ###################\")\n",
    "visualizer = KElbowVisualizer(model, k=(1,8))\n",
    "visualizer.fit(X_scaled)       \n",
    "visualizer.show()\n",
    "\n",
    "print(\"#################################\\nElbow method suggests 3 clusters\")"
   ]
  },
  {
   "cell_type": "code",
   "execution_count": 17,
   "metadata": {},
   "outputs": [
    {
     "name": "stdout",
     "output_type": "stream",
     "text": [
      "################################# Silhouette Method #######################\n"
     ]
    },
    {
     "data": {
      "text/plain": [
       "<Figure size 864x648 with 0 Axes>"
      ]
     },
     "execution_count": 17,
     "metadata": {},
     "output_type": "execute_result"
    },
    {
     "data": {
      "text/plain": [
       "SilhouetteVisualizer(ax=<matplotlib.axes._subplots.AxesSubplot object at 0x0000024331863D30>,\n",
       "                     colors='yellowbrick', is_fitted='auto', model=None)"
      ]
     },
     "execution_count": 17,
     "metadata": {},
     "output_type": "execute_result"
    },
    {
     "data": {
      "image/png": "[encoded data removed]",
      "text/plain": [
       "<Figure size 864x648 with 1 Axes>"
      ]
     },
     "metadata": {},
     "output_type": "display_data"
    },
    {
     "data": {
      "text/plain": [
       "<matplotlib.axes._subplots.AxesSubplot at 0x24331863d30>"
      ]
     },
     "execution_count": 17,
     "metadata": {},
     "output_type": "execute_result"
    },
    {
     "name": "stdout",
     "output_type": "stream",
     "text": [
      "##################################################\n",
      "Cluster 2 is the most popular, then 0, cluster 1 is almost empty\n"
     ]
    }
   ],
   "source": [
    "#Silhoutte to visualize compactness of clusters\n",
    "print(\"################################# Silhouette Method #######################\")\n",
    "plt.figure(figsize=(12,9))\n",
    "\n",
    "model=MiniBatchKMeans(n_clusters=3).fit(X_scaled)\n",
    "\n",
    "visualizer = SilhouetteVisualizer(model, colors='yellowbrick')\n",
    "visualizer.fit(X_scaled)      \n",
    "visualizer.show()\n",
    "\n",
    "print(\"##################################################\\nCluster 2 is the most popular, then 0, cluster 1 is almost empty\")"
   ]
  },
  {
   "cell_type": "code",
   "execution_count": 18,
   "metadata": {},
   "outputs": [
    {
     "name": "stdout",
     "output_type": "stream",
     "text": [
      "################################# Inter Cluster Distance #######################\n"
     ]
    },
    {
     "data": {
      "text/plain": [
       "<Figure size 864x648 with 0 Axes>"
      ]
     },
     "execution_count": 18,
     "metadata": {},
     "output_type": "execute_result"
    },
    {
     "data": {
      "text/plain": [
       "InterclusterDistance(ax=<matplotlib.axes._subplots.AxesSubplot object at 0x000002433134C208>,\n",
       "                     embedding='mds', is_fitted='auto', legend=True,\n",
       "                     legend_loc='lower left', legend_size=1.5, max_size=25000,\n",
       "                     min_size=10000, model=None, random_state=None,\n",
       "                     scoring='membership')"
      ]
     },
     "execution_count": 18,
     "metadata": {},
     "output_type": "execute_result"
    },
    {
     "data": {
      "image/png": "[encoded data removed]",
      "text/plain": [
       "<Figure size 864x648 with 2 Axes>"
      ]
     },
     "metadata": {},
     "output_type": "display_data"
    },
    {
     "data": {
      "text/plain": [
       "<matplotlib.axes._subplots.AxesSubplot at 0x2433134c208>"
      ]
     },
     "execution_count": 18,
     "metadata": {},
     "output_type": "execute_result"
    }
   ],
   "source": [
    "#Inter cluster distance \n",
    "print(\"################################# Inter Cluster Distance #######################\")\n",
    "plt.figure(figsize=(12,9))\n",
    "\n",
    "visualizer = InterclusterDistance(model, min_size=10000)\n",
    "\n",
    "#visualizer = InterclusterDistance(model)\n",
    "visualizer.fit(X_scaled)\n",
    "visualizer.show()"
   ]
  },
  {
   "cell_type": "code",
   "execution_count": 19,
   "metadata": {},
   "outputs": [
    {
     "name": "stdout",
     "output_type": "stream",
     "text": [
      "###################### Silhouette Score #######################\n",
      "Silhouette score 0.253363\n"
     ]
    }
   ],
   "source": [
    "# Silhouette score\n",
    "print(\"###################### Silhouette Score #######################\")\n",
    "from sklearn import metrics\n",
    "\n",
    "she=metrics.silhouette_score(X_scaled, model.labels_, metric=\"euclidean\")\n",
    "print(f'Silhouette score {she:5f}')"
   ]
  },
  {
   "cell_type": "code",
   "execution_count": 20,
   "metadata": {},
   "outputs": [
    {
     "name": "stdout",
     "output_type": "stream",
     "text": [
      "###################### Centroids #######################\n"
     ]
    },
    {
     "data": {
      "text/plain": [
       "array([0, 2, 0, 2, 0, 0, 0, 2, 2, 0, 2, 0, 1, 0, 1, 0, 0, 1, 1, 1, 1, 1,\n",
       "       0, 0, 0, 0])"
      ]
     },
     "execution_count": 20,
     "metadata": {},
     "output_type": "execute_result"
    },
    {
     "data": {
      "text/plain": [
       "array([[0.62875985, 0.72459279, 0.78193781, 0.70774097, 0.45755113,\n",
       "        0.62527723],\n",
       "       [0.31266746, 0.57535168, 0.36311989, 0.37101776, 0.18010196,\n",
       "        0.2173407 ],\n",
       "       [0.57633481, 0.77841977, 0.48482217, 0.0866829 , 0.47844287,\n",
       "        0.40476564]])"
      ]
     },
     "execution_count": 20,
     "metadata": {},
     "output_type": "execute_result"
    },
    {
     "data": {
      "text/html": [
       "<div>\n",
       "<style scoped>\n",
       "    .dataframe tbody tr th:only-of-type {\n",
       "        vertical-align: middle;\n",
       "    }\n",
       "\n",
       "    .dataframe tbody tr th {\n",
       "        vertical-align: top;\n",
       "    }\n",
       "\n",
       "    .dataframe thead th {\n",
       "        text-align: right;\n",
       "    }\n",
       "</style>\n",
       "<table border=\"1\" class=\"dataframe\">\n",
       "  <thead>\n",
       "    <tr style=\"text-align: right;\">\n",
       "      <th></th>\n",
       "      <th>Construction Confidence Indicator</th>\n",
       "      <th>Consumer Confidence Indicator</th>\n",
       "      <th>Industrial Confidence Indicator</th>\n",
       "      <th>Retail Confidence Indicator</th>\n",
       "      <th>Service Confidence Indicator</th>\n",
       "      <th>Business Confidence Indicator (avg)</th>\n",
       "    </tr>\n",
       "  </thead>\n",
       "  <tbody>\n",
       "    <tr>\n",
       "      <th>0</th>\n",
       "      <td>0.628760</td>\n",
       "      <td>0.724593</td>\n",
       "      <td>0.781938</td>\n",
       "      <td>0.707741</td>\n",
       "      <td>0.457551</td>\n",
       "      <td>0.625277</td>\n",
       "    </tr>\n",
       "    <tr>\n",
       "      <th>1</th>\n",
       "      <td>0.312667</td>\n",
       "      <td>0.575352</td>\n",
       "      <td>0.363120</td>\n",
       "      <td>0.371018</td>\n",
       "      <td>0.180102</td>\n",
       "      <td>0.217341</td>\n",
       "    </tr>\n",
       "    <tr>\n",
       "      <th>2</th>\n",
       "      <td>0.576335</td>\n",
       "      <td>0.778420</td>\n",
       "      <td>0.484822</td>\n",
       "      <td>0.086683</td>\n",
       "      <td>0.478443</td>\n",
       "      <td>0.404766</td>\n",
       "    </tr>\n",
       "  </tbody>\n",
       "</table>\n",
       "</div>"
      ],
      "text/plain": [
       "    Construction Confidence Indicator    Consumer Confidence Indicator   \\\n",
       "0                             0.628760                         0.724593   \n",
       "1                             0.312667                         0.575352   \n",
       "2                             0.576335                         0.778420   \n",
       "\n",
       "    Industrial Confidence Indicator    Retail Confidence Indicator   \\\n",
       "0                           0.781938                       0.707741   \n",
       "1                           0.363120                       0.371018   \n",
       "2                           0.484822                       0.086683   \n",
       "\n",
       "    Service Confidence Indicator    Business Confidence Indicator (avg)   \n",
       "0                        0.457551                               0.625277  \n",
       "1                        0.180102                               0.217341  \n",
       "2                        0.478443                               0.404766  "
      ]
     },
     "execution_count": 20,
     "metadata": {},
     "output_type": "execute_result"
    },
    {
     "data": {
      "text/html": [
       "<div>\n",
       "<style scoped>\n",
       "    .dataframe tbody tr th:only-of-type {\n",
       "        vertical-align: middle;\n",
       "    }\n",
       "\n",
       "    .dataframe tbody tr th {\n",
       "        vertical-align: top;\n",
       "    }\n",
       "\n",
       "    .dataframe thead th {\n",
       "        text-align: right;\n",
       "    }\n",
       "</style>\n",
       "<table border=\"1\" class=\"dataframe\">\n",
       "  <thead>\n",
       "    <tr style=\"text-align: right;\">\n",
       "      <th></th>\n",
       "      <th>Construction Confidence Indicator</th>\n",
       "      <th>Consumer Confidence Indicator</th>\n",
       "      <th>Industrial Confidence Indicator</th>\n",
       "      <th>Retail Confidence Indicator</th>\n",
       "      <th>Service Confidence Indicator</th>\n",
       "      <th>Business Confidence Indicator (avg)</th>\n",
       "    </tr>\n",
       "  </thead>\n",
       "  <tbody>\n",
       "    <tr>\n",
       "      <th>0</th>\n",
       "      <td>-6.908525</td>\n",
       "      <td>-4.801778</td>\n",
       "      <td>2.614749</td>\n",
       "      <td>11.938232</td>\n",
       "      <td>14.710983</td>\n",
       "      <td>5.588860</td>\n",
       "    </tr>\n",
       "    <tr>\n",
       "      <th>1</th>\n",
       "      <td>-26.158552</td>\n",
       "      <td>-15.532214</td>\n",
       "      <td>-4.463274</td>\n",
       "      <td>2.880378</td>\n",
       "      <td>5.305456</td>\n",
       "      <td>-5.608998</td>\n",
       "    </tr>\n",
       "    <tr>\n",
       "      <th>2</th>\n",
       "      <td>-10.101210</td>\n",
       "      <td>-0.931619</td>\n",
       "      <td>-2.406505</td>\n",
       "      <td>-4.768230</td>\n",
       "      <td>15.419213</td>\n",
       "      <td>-0.464183</td>\n",
       "    </tr>\n",
       "  </tbody>\n",
       "</table>\n",
       "</div>"
      ],
      "text/plain": [
       "    Construction Confidence Indicator    Consumer Confidence Indicator   \\\n",
       "0                            -6.908525                        -4.801778   \n",
       "1                           -26.158552                       -15.532214   \n",
       "2                           -10.101210                        -0.931619   \n",
       "\n",
       "    Industrial Confidence Indicator    Retail Confidence Indicator   \\\n",
       "0                           2.614749                      11.938232   \n",
       "1                          -4.463274                       2.880378   \n",
       "2                          -2.406505                      -4.768230   \n",
       "\n",
       "    Service Confidence Indicator    Business Confidence Indicator (avg)   \n",
       "0                       14.710983                               5.588860  \n",
       "1                        5.305456                              -5.608998  \n",
       "2                       15.419213                              -0.464183  "
      ]
     },
     "execution_count": 20,
     "metadata": {},
     "output_type": "execute_result"
    }
   ],
   "source": [
    "#centroids\n",
    "print(\"###################### Centroids #######################\")\n",
    "\n",
    "model.labels_\n",
    "model.cluster_centers_\n",
    "\n",
    "pd.DataFrame(model.cluster_centers_, columns=X.columns)\n",
    "\n",
    "# BECAUSE WE SCALED WE HAVE TO BRING IT BACK TO THE ORIGINAL RANGES\n",
    "pd.DataFrame(x_scaled_fit.inverse_transform(model.cluster_centers_),columns=X.columns)\n",
    "\n",
    "# --- Now with these values we can have an interpretation of what each cluster means ---"
   ]
  },
  {
   "cell_type": "code",
   "execution_count": 21,
   "metadata": {},
   "outputs": [
    {
     "name": "stdout",
     "output_type": "stream",
     "text": [
      "###################### Hierarchical Clustering #######################\n"
     ]
    },
    {
     "data": {
      "text/plain": [
       "<Figure size 1224x648 with 0 Axes>"
      ]
     },
     "execution_count": 21,
     "metadata": {},
     "output_type": "execute_result"
    },
    {
     "data": {
      "image/png": "[encoded data removed]",
      "text/plain": [
       "<Figure size 1224x648 with 1 Axes>"
      ]
     },
     "metadata": {},
     "output_type": "display_data"
    },
    {
     "name": "stdout",
     "output_type": "stream",
     "text": [
      "predictions --- \n"
     ]
    },
    {
     "data": {
      "text/plain": [
       "array([2, 0, 1, 0, 2, 1, 2, 0, 0, 1, 0, 1, 0, 0, 0, 1, 1, 0, 0, 0, 0, 0,\n",
       "       1, 1, 1, 1], dtype=int64)"
      ]
     },
     "execution_count": 21,
     "metadata": {},
     "output_type": "execute_result"
    },
    {
     "name": "stdout",
     "output_type": "stream",
     "text": [
      "labels --- \n"
     ]
    },
    {
     "data": {
      "text/plain": [
       "array([2, 0, 1, 0, 2, 1, 2, 0, 0, 1, 0, 1, 0, 0, 0, 1, 1, 0, 0, 0, 0, 0,\n",
       "       1, 1, 1, 1], dtype=int64)"
      ]
     },
     "execution_count": 21,
     "metadata": {},
     "output_type": "execute_result"
    }
   ],
   "source": [
    "#import hierarchical clustering libraries\n",
    "import scipy.cluster.hierarchy as sch\n",
    "from sklearn.cluster import AgglomerativeClustering\n",
    "\n",
    "print(\"###################### Hierarchical Clustering #######################\")\n",
    "\n",
    "plt.figure(figsize=(17,9))\n",
    "\n",
    "# create dendrogram\n",
    "dn = sch.dendrogram(sch.linkage(X_scaled, method='ward'), no_labels=True)\n",
    "plt.show()\n",
    "\n",
    "# create clusters\n",
    "hc = AgglomerativeClustering(n_clusters=3, affinity = 'euclidean', linkage = 'ward')\n",
    "\n",
    "# save clusters for chart y_hc = hc.fit_predict(points)\n",
    "print(\"predictions --- \")\n",
    "y_hc = hc.fit_predict(X_scaled)\n",
    "y_hc\n",
    "\n",
    "print(\"labels --- \")\n",
    "hc.labels_"
   ]
  },
  {
   "cell_type": "code",
   "execution_count": 22,
   "metadata": {},
   "outputs": [
    {
     "data": {
      "text/html": [
       "<div>\n",
       "<style scoped>\n",
       "    .dataframe tbody tr th:only-of-type {\n",
       "        vertical-align: middle;\n",
       "    }\n",
       "\n",
       "    .dataframe tbody tr th {\n",
       "        vertical-align: top;\n",
       "    }\n",
       "\n",
       "    .dataframe thead th {\n",
       "        text-align: right;\n",
       "    }\n",
       "</style>\n",
       "<table border=\"1\" class=\"dataframe\">\n",
       "  <thead>\n",
       "    <tr style=\"text-align: right;\">\n",
       "      <th></th>\n",
       "      <th>Country</th>\n",
       "      <th>Construction Confidence Indicator</th>\n",
       "      <th>Consumer Confidence Indicator</th>\n",
       "      <th>Industrial Confidence Indicator</th>\n",
       "      <th>Retail Confidence Indicator</th>\n",
       "      <th>Service Confidence Indicator</th>\n",
       "      <th>Business Confidence Indicator (avg)</th>\n",
       "      <th>cluster</th>\n",
       "    </tr>\n",
       "  </thead>\n",
       "  <tbody>\n",
       "    <tr>\n",
       "      <th>2</th>\n",
       "      <td>Denmark</td>\n",
       "      <td>-4.3</td>\n",
       "      <td>15.0</td>\n",
       "      <td>-3.9</td>\n",
       "      <td>8.5</td>\n",
       "      <td>8.2</td>\n",
       "      <td>2.125</td>\n",
       "      <td>1</td>\n",
       "    </tr>\n",
       "    <tr>\n",
       "      <th>6</th>\n",
       "      <td>Netherlands</td>\n",
       "      <td>10.7</td>\n",
       "      <td>8.1</td>\n",
       "      <td>1.6</td>\n",
       "      <td>6.9</td>\n",
       "      <td>8.8</td>\n",
       "      <td>7.000</td>\n",
       "      <td>1</td>\n",
       "    </tr>\n",
       "    <tr>\n",
       "      <th>11</th>\n",
       "      <td>Bulgaria</td>\n",
       "      <td>-21.7</td>\n",
       "      <td>-28.7</td>\n",
       "      <td>0.6</td>\n",
       "      <td>15.3</td>\n",
       "      <td>9.8</td>\n",
       "      <td>1.000</td>\n",
       "      <td>1</td>\n",
       "    </tr>\n",
       "    <tr>\n",
       "      <th>13</th>\n",
       "      <td>Estonia</td>\n",
       "      <td>-3.0</td>\n",
       "      <td>-3.5</td>\n",
       "      <td>2.6</td>\n",
       "      <td>12.5</td>\n",
       "      <td>5.8</td>\n",
       "      <td>4.475</td>\n",
       "      <td>1</td>\n",
       "    </tr>\n",
       "    <tr>\n",
       "      <th>17</th>\n",
       "      <td>Croatia</td>\n",
       "      <td>-11.2</td>\n",
       "      <td>-19.3</td>\n",
       "      <td>4.4</td>\n",
       "      <td>8.0</td>\n",
       "      <td>15.9</td>\n",
       "      <td>4.275</td>\n",
       "      <td>1</td>\n",
       "    </tr>\n",
       "    <tr>\n",
       "      <th>18</th>\n",
       "      <td>Hungary</td>\n",
       "      <td>-5.1</td>\n",
       "      <td>-17.0</td>\n",
       "      <td>5.7</td>\n",
       "      <td>9.1</td>\n",
       "      <td>7.1</td>\n",
       "      <td>4.200</td>\n",
       "      <td>1</td>\n",
       "    </tr>\n",
       "    <tr>\n",
       "      <th>24</th>\n",
       "      <td>Romania</td>\n",
       "      <td>-13.3</td>\n",
       "      <td>-19.1</td>\n",
       "      <td>0.4</td>\n",
       "      <td>10.5</td>\n",
       "      <td>8.1</td>\n",
       "      <td>1.425</td>\n",
       "      <td>1</td>\n",
       "    </tr>\n",
       "    <tr>\n",
       "      <th>25</th>\n",
       "      <td>Slovenia</td>\n",
       "      <td>-7.0</td>\n",
       "      <td>-11.2</td>\n",
       "      <td>6.3</td>\n",
       "      <td>16.7</td>\n",
       "      <td>19.3</td>\n",
       "      <td>8.825</td>\n",
       "      <td>1</td>\n",
       "    </tr>\n",
       "    <tr>\n",
       "      <th>26</th>\n",
       "      <td>Slovakia</td>\n",
       "      <td>-10.0</td>\n",
       "      <td>-7.5</td>\n",
       "      <td>4.7</td>\n",
       "      <td>15.7</td>\n",
       "      <td>7.3</td>\n",
       "      <td>4.425</td>\n",
       "      <td>1</td>\n",
       "    </tr>\n",
       "    <tr>\n",
       "      <th>27</th>\n",
       "      <td>United Kingdom</td>\n",
       "      <td>-4.5</td>\n",
       "      <td>-0.3</td>\n",
       "      <td>4.4</td>\n",
       "      <td>7.4</td>\n",
       "      <td>7.8</td>\n",
       "      <td>3.775</td>\n",
       "      <td>1</td>\n",
       "    </tr>\n",
       "  </tbody>\n",
       "</table>\n",
       "</div>"
      ],
      "text/plain": [
       "           Country     Construction Confidence Indicator   \\\n",
       "2           Denmark                                  -4.3   \n",
       "6       Netherlands                                  10.7   \n",
       "11         Bulgaria                                 -21.7   \n",
       "13          Estonia                                  -3.0   \n",
       "17          Croatia                                 -11.2   \n",
       "18          Hungary                                  -5.1   \n",
       "24          Romania                                 -13.3   \n",
       "25         Slovenia                                  -7.0   \n",
       "26         Slovakia                                 -10.0   \n",
       "27   United Kingdom                                  -4.5   \n",
       "\n",
       "     Consumer Confidence Indicator    Industrial Confidence Indicator   \\\n",
       "2                              15.0                               -3.9   \n",
       "6                               8.1                                1.6   \n",
       "11                            -28.7                                0.6   \n",
       "13                             -3.5                                2.6   \n",
       "17                            -19.3                                4.4   \n",
       "18                            -17.0                                5.7   \n",
       "24                            -19.1                                0.4   \n",
       "25                            -11.2                                6.3   \n",
       "26                             -7.5                                4.7   \n",
       "27                             -0.3                                4.4   \n",
       "\n",
       "     Retail Confidence Indicator    Service Confidence Indicator   \\\n",
       "2                             8.5                             8.2   \n",
       "6                             6.9                             8.8   \n",
       "11                           15.3                             9.8   \n",
       "13                           12.5                             5.8   \n",
       "17                            8.0                            15.9   \n",
       "18                            9.1                             7.1   \n",
       "24                           10.5                             8.1   \n",
       "25                           16.7                            19.3   \n",
       "26                           15.7                             7.3   \n",
       "27                            7.4                             7.8   \n",
       "\n",
       "     Business Confidence Indicator (avg)   cluster  \n",
       "2                                   2.125        1  \n",
       "6                                   7.000        1  \n",
       "11                                  1.000        1  \n",
       "13                                  4.475        1  \n",
       "17                                  4.275        1  \n",
       "18                                  4.200        1  \n",
       "24                                  1.425        1  \n",
       "25                                  8.825        1  \n",
       "26                                  4.425        1  \n",
       "27                                  3.775        1  "
      ]
     },
     "execution_count": 22,
     "metadata": {},
     "output_type": "execute_result"
    },
    {
     "data": {
      "text/html": [
       "<div>\n",
       "<style scoped>\n",
       "    .dataframe tbody tr th:only-of-type {\n",
       "        vertical-align: middle;\n",
       "    }\n",
       "\n",
       "    .dataframe tbody tr th {\n",
       "        vertical-align: top;\n",
       "    }\n",
       "\n",
       "    .dataframe thead th {\n",
       "        text-align: right;\n",
       "    }\n",
       "</style>\n",
       "<table border=\"1\" class=\"dataframe\">\n",
       "  <thead>\n",
       "    <tr style=\"text-align: right;\">\n",
       "      <th></th>\n",
       "      <th>Country</th>\n",
       "      <th>Construction Confidence Indicator</th>\n",
       "      <th>Consumer Confidence Indicator</th>\n",
       "      <th>Industrial Confidence Indicator</th>\n",
       "      <th>Retail Confidence Indicator</th>\n",
       "      <th>Service Confidence Indicator</th>\n",
       "      <th>Business Confidence Indicator (avg)</th>\n",
       "      <th>cluster</th>\n",
       "    </tr>\n",
       "  </thead>\n",
       "  <tbody>\n",
       "    <tr>\n",
       "      <th>0</th>\n",
       "      <td>Czech Republic</td>\n",
       "      <td>-19.7</td>\n",
       "      <td>3.5</td>\n",
       "      <td>3.1</td>\n",
       "      <td>19.8</td>\n",
       "      <td>33.1</td>\n",
       "      <td>9.075</td>\n",
       "      <td>2</td>\n",
       "    </tr>\n",
       "    <tr>\n",
       "      <th>5</th>\n",
       "      <td>Malta</td>\n",
       "      <td>4.4</td>\n",
       "      <td>2.3</td>\n",
       "      <td>4.7</td>\n",
       "      <td>6.1</td>\n",
       "      <td>28.4</td>\n",
       "      <td>10.900</td>\n",
       "      <td>2</td>\n",
       "    </tr>\n",
       "    <tr>\n",
       "      <th>7</th>\n",
       "      <td>Sweden</td>\n",
       "      <td>15.7</td>\n",
       "      <td>13.8</td>\n",
       "      <td>3.7</td>\n",
       "      <td>17.7</td>\n",
       "      <td>26.4</td>\n",
       "      <td>15.875</td>\n",
       "      <td>2</td>\n",
       "    </tr>\n",
       "  </tbody>\n",
       "</table>\n",
       "</div>"
      ],
      "text/plain": [
       "          Country     Construction Confidence Indicator   \\\n",
       "0   Czech Republic                                 -19.7   \n",
       "5            Malta                                   4.4   \n",
       "7           Sweden                                  15.7   \n",
       "\n",
       "    Consumer Confidence Indicator    Industrial Confidence Indicator   \\\n",
       "0                              3.5                                3.1   \n",
       "5                              2.3                                4.7   \n",
       "7                             13.8                                3.7   \n",
       "\n",
       "    Retail Confidence Indicator    Service Confidence Indicator   \\\n",
       "0                           19.8                            33.1   \n",
       "5                            6.1                            28.4   \n",
       "7                           17.7                            26.4   \n",
       "\n",
       "    Business Confidence Indicator (avg)   cluster  \n",
       "0                                  9.075        2  \n",
       "5                                 10.900        2  \n",
       "7                                 15.875        2  "
      ]
     },
     "execution_count": 22,
     "metadata": {},
     "output_type": "execute_result"
    },
    {
     "data": {
      "text/html": [
       "<div>\n",
       "<style scoped>\n",
       "    .dataframe tbody tr th:only-of-type {\n",
       "        vertical-align: middle;\n",
       "    }\n",
       "\n",
       "    .dataframe tbody tr th {\n",
       "        vertical-align: top;\n",
       "    }\n",
       "\n",
       "    .dataframe thead th {\n",
       "        text-align: right;\n",
       "    }\n",
       "</style>\n",
       "<table border=\"1\" class=\"dataframe\">\n",
       "  <thead>\n",
       "    <tr style=\"text-align: right;\">\n",
       "      <th></th>\n",
       "      <th>Country</th>\n",
       "      <th>Construction Confidence Indicator</th>\n",
       "      <th>Consumer Confidence Indicator</th>\n",
       "      <th>Industrial Confidence Indicator</th>\n",
       "      <th>Retail Confidence Indicator</th>\n",
       "      <th>Service Confidence Indicator</th>\n",
       "      <th>Business Confidence Indicator (avg)</th>\n",
       "      <th>cluster</th>\n",
       "    </tr>\n",
       "  </thead>\n",
       "  <tbody>\n",
       "    <tr>\n",
       "      <th>1</th>\n",
       "      <td>Germany</td>\n",
       "      <td>-2.2</td>\n",
       "      <td>0.9</td>\n",
       "      <td>1.0</td>\n",
       "      <td>-3.7</td>\n",
       "      <td>18.5</td>\n",
       "      <td>3.400</td>\n",
       "      <td>0</td>\n",
       "    </tr>\n",
       "    <tr>\n",
       "      <th>3</th>\n",
       "      <td>Finland</td>\n",
       "      <td>-4.0</td>\n",
       "      <td>14.9</td>\n",
       "      <td>-3.0</td>\n",
       "      <td>-4.7</td>\n",
       "      <td>11.0</td>\n",
       "      <td>-0.175</td>\n",
       "      <td>0</td>\n",
       "    </tr>\n",
       "    <tr>\n",
       "      <th>9</th>\n",
       "      <td>Austria</td>\n",
       "      <td>-3.7</td>\n",
       "      <td>-8.1</td>\n",
       "      <td>-3.5</td>\n",
       "      <td>-7.1</td>\n",
       "      <td>15.2</td>\n",
       "      <td>0.225</td>\n",
       "      <td>0</td>\n",
       "    </tr>\n",
       "    <tr>\n",
       "      <th>10</th>\n",
       "      <td>Belgium</td>\n",
       "      <td>-13.9</td>\n",
       "      <td>-4.0</td>\n",
       "      <td>-4.3</td>\n",
       "      <td>-7.0</td>\n",
       "      <td>15.2</td>\n",
       "      <td>-2.500</td>\n",
       "      <td>0</td>\n",
       "    </tr>\n",
       "    <tr>\n",
       "      <th>12</th>\n",
       "      <td>Cyprus</td>\n",
       "      <td>-28.4</td>\n",
       "      <td>-9.1</td>\n",
       "      <td>-1.8</td>\n",
       "      <td>-0.9</td>\n",
       "      <td>18.0</td>\n",
       "      <td>-3.275</td>\n",
       "      <td>0</td>\n",
       "    </tr>\n",
       "    <tr>\n",
       "      <th>14</th>\n",
       "      <td>Greece</td>\n",
       "      <td>-45.2</td>\n",
       "      <td>-56.9</td>\n",
       "      <td>-6.3</td>\n",
       "      <td>2.1</td>\n",
       "      <td>3.1</td>\n",
       "      <td>-11.575</td>\n",
       "      <td>0</td>\n",
       "    </tr>\n",
       "    <tr>\n",
       "      <th>15</th>\n",
       "      <td>Spain</td>\n",
       "      <td>-28.4</td>\n",
       "      <td>-1.9</td>\n",
       "      <td>-1.6</td>\n",
       "      <td>11.3</td>\n",
       "      <td>18.5</td>\n",
       "      <td>-0.050</td>\n",
       "      <td>0</td>\n",
       "    </tr>\n",
       "    <tr>\n",
       "      <th>16</th>\n",
       "      <td>France</td>\n",
       "      <td>-29.2</td>\n",
       "      <td>-14.2</td>\n",
       "      <td>-3.4</td>\n",
       "      <td>-4.4</td>\n",
       "      <td>-0.8</td>\n",
       "      <td>-9.450</td>\n",
       "      <td>0</td>\n",
       "    </tr>\n",
       "    <tr>\n",
       "      <th>19</th>\n",
       "      <td>Italy</td>\n",
       "      <td>-19.8</td>\n",
       "      <td>-9.2</td>\n",
       "      <td>-1.3</td>\n",
       "      <td>6.4</td>\n",
       "      <td>7.9</td>\n",
       "      <td>-1.700</td>\n",
       "      <td>0</td>\n",
       "    </tr>\n",
       "    <tr>\n",
       "      <th>20</th>\n",
       "      <td>Lithuania</td>\n",
       "      <td>-19.7</td>\n",
       "      <td>-8.8</td>\n",
       "      <td>-6.4</td>\n",
       "      <td>5.5</td>\n",
       "      <td>9.6</td>\n",
       "      <td>-2.750</td>\n",
       "      <td>0</td>\n",
       "    </tr>\n",
       "    <tr>\n",
       "      <th>21</th>\n",
       "      <td>Latvia</td>\n",
       "      <td>-19.3</td>\n",
       "      <td>-8.5</td>\n",
       "      <td>-2.7</td>\n",
       "      <td>6.1</td>\n",
       "      <td>4.7</td>\n",
       "      <td>-2.800</td>\n",
       "      <td>0</td>\n",
       "    </tr>\n",
       "    <tr>\n",
       "      <th>22</th>\n",
       "      <td>Poland</td>\n",
       "      <td>-22.2</td>\n",
       "      <td>-9.3</td>\n",
       "      <td>-10.6</td>\n",
       "      <td>2.8</td>\n",
       "      <td>1.4</td>\n",
       "      <td>-7.150</td>\n",
       "      <td>0</td>\n",
       "    </tr>\n",
       "    <tr>\n",
       "      <th>23</th>\n",
       "      <td>Portugal</td>\n",
       "      <td>-31.8</td>\n",
       "      <td>-11.3</td>\n",
       "      <td>-0.5</td>\n",
       "      <td>1.3</td>\n",
       "      <td>9.7</td>\n",
       "      <td>-5.325</td>\n",
       "      <td>0</td>\n",
       "    </tr>\n",
       "  </tbody>\n",
       "</table>\n",
       "</div>"
      ],
      "text/plain": [
       "      Country     Construction Confidence Indicator   \\\n",
       "1      Germany                                  -2.2   \n",
       "3      Finland                                  -4.0   \n",
       "9      Austria                                  -3.7   \n",
       "10     Belgium                                 -13.9   \n",
       "12      Cyprus                                 -28.4   \n",
       "14      Greece                                 -45.2   \n",
       "15       Spain                                 -28.4   \n",
       "16      France                                 -29.2   \n",
       "19       Italy                                 -19.8   \n",
       "20   Lithuania                                 -19.7   \n",
       "21      Latvia                                 -19.3   \n",
       "22      Poland                                 -22.2   \n",
       "23    Portugal                                 -31.8   \n",
       "\n",
       "     Consumer Confidence Indicator    Industrial Confidence Indicator   \\\n",
       "1                               0.9                                1.0   \n",
       "3                              14.9                               -3.0   \n",
       "9                              -8.1                               -3.5   \n",
       "10                             -4.0                               -4.3   \n",
       "12                             -9.1                               -1.8   \n",
       "14                            -56.9                               -6.3   \n",
       "15                             -1.9                               -1.6   \n",
       "16                            -14.2                               -3.4   \n",
       "19                             -9.2                               -1.3   \n",
       "20                             -8.8                               -6.4   \n",
       "21                             -8.5                               -2.7   \n",
       "22                             -9.3                              -10.6   \n",
       "23                            -11.3                               -0.5   \n",
       "\n",
       "     Retail Confidence Indicator    Service Confidence Indicator   \\\n",
       "1                            -3.7                            18.5   \n",
       "3                            -4.7                            11.0   \n",
       "9                            -7.1                            15.2   \n",
       "10                           -7.0                            15.2   \n",
       "12                           -0.9                            18.0   \n",
       "14                            2.1                             3.1   \n",
       "15                           11.3                            18.5   \n",
       "16                           -4.4                            -0.8   \n",
       "19                            6.4                             7.9   \n",
       "20                            5.5                             9.6   \n",
       "21                            6.1                             4.7   \n",
       "22                            2.8                             1.4   \n",
       "23                            1.3                             9.7   \n",
       "\n",
       "     Business Confidence Indicator (avg)   cluster  \n",
       "1                                   3.400        0  \n",
       "3                                  -0.175        0  \n",
       "9                                   0.225        0  \n",
       "10                                 -2.500        0  \n",
       "12                                 -3.275        0  \n",
       "14                                -11.575        0  \n",
       "15                                 -0.050        0  \n",
       "16                                 -9.450        0  \n",
       "19                                 -1.700        0  \n",
       "20                                 -2.750        0  \n",
       "21                                 -2.800        0  \n",
       "22                                 -7.150        0  \n",
       "23                                 -5.325        0  "
      ]
     },
     "execution_count": 22,
     "metadata": {},
     "output_type": "execute_result"
    }
   ],
   "source": [
    "# print Clusters\n",
    "EU['cluster'] = hc.labels_\n",
    "one = EU['cluster'] == 1\n",
    "two = EU['cluster'] == 2\n",
    "zero = EU['cluster'] == 0\n",
    "EU[one]\n",
    "EU[two]\n",
    "EU[zero]"
   ]
  },
  {
   "cell_type": "code",
   "execution_count": 23,
   "metadata": {},
   "outputs": [
    {
     "name": "stdout",
     "output_type": "stream",
     "text": [
      "#####################################################################################\n",
      "#####################################################################################\n",
      "########################### Credit Cards Data Set ###################################\n",
      "#####################################################################################\n",
      "#####################################################################################\n"
     ]
    }
   ],
   "source": [
    "print(\"#####################################################################################\")\n",
    "print(\"#####################################################################################\")\n",
    "print(\"########################### Credit Cards Data Set ###################################\")\n",
    "print(\"#####################################################################################\")\n",
    "print(\"#####################################################################################\")\n",
    "\n",
    "filename=\"CCData.csv\"\n",
    "CC = pd.read_csv(filename)\n",
    "\n",
    "#Drop NaN\n",
    "CC = CC.dropna()\n",
    "\n",
    "# Choose indicators\n",
    "X = CC.drop(['CUST_ID'], axis=1)"
   ]
  },
  {
   "cell_type": "code",
   "execution_count": 24,
   "metadata": {},
   "outputs": [
    {
     "name": "stdout",
     "output_type": "stream",
     "text": [
      "############################ K Means ################################\n"
     ]
    }
   ],
   "source": [
    "print(\"############################ K Means ################################\")\n",
    "\n",
    "# Kmeans relies in a distance metric, therefore we need to rescale all features to the same scale \n",
    "min_max_scaler = preprocessing.MinMaxScaler()  # by default between 0 and 1\n",
    "x_scaled_fit = min_max_scaler.fit(X)\n",
    "x_scaled = min_max_scaler.fit_transform(X)\n",
    "X_scaled = pd.DataFrame(x_scaled,columns=X.columns)"
   ]
  },
  {
   "cell_type": "code",
   "execution_count": 25,
   "metadata": {},
   "outputs": [
    {
     "data": {
      "text/plain": [
       "<Figure size 864x648 with 0 Axes>"
      ]
     },
     "execution_count": 25,
     "metadata": {},
     "output_type": "execute_result"
    },
    {
     "data": {
      "text/plain": [
       "KElbowVisualizer(ax=<matplotlib.axes._subplots.AxesSubplot object at 0x00000243331F3160>,\n",
       "                 k=None, locate_elbow=True, metric='distortion', model=None,\n",
       "                 timings=True)"
      ]
     },
     "execution_count": 25,
     "metadata": {},
     "output_type": "execute_result"
    },
    {
     "data": {
      "image/png": "[encoded data removed]",
      "text/plain": [
       "<Figure size 864x648 with 2 Axes>"
      ]
     },
     "metadata": {},
     "output_type": "display_data"
    },
    {
     "data": {
      "text/plain": [
       "<matplotlib.axes._subplots.AxesSubplot at 0x243331f3160>"
      ]
     },
     "execution_count": 25,
     "metadata": {},
     "output_type": "execute_result"
    }
   ],
   "source": [
    "#Elbow method\n",
    "plt.figure(figsize=(12,9))\n",
    "\n",
    "#Now we apply KMeans\n",
    "model = KMeans()\n",
    "\n",
    "#we want first to find out how many clusters using the elbow technique\n",
    "visualizer = KElbowVisualizer(model, k=(1,8))\n",
    "visualizer.fit(X_scaled)       \n",
    "visualizer.show()\n",
    "\n",
    "#Elbow method suggests 2 clusters"
   ]
  },
  {
   "cell_type": "code",
   "execution_count": 26,
   "metadata": {},
   "outputs": [
    {
     "name": "stdout",
     "output_type": "stream",
     "text": [
      "################################# Silhouette Method #######################\n"
     ]
    },
    {
     "data": {
      "text/plain": [
       "<Figure size 864x648 with 0 Axes>"
      ]
     },
     "execution_count": 26,
     "metadata": {},
     "output_type": "execute_result"
    },
    {
     "data": {
      "text/plain": [
       "SilhouetteVisualizer(ax=<matplotlib.axes._subplots.AxesSubplot object at 0x00000243331CA4A8>,\n",
       "                     colors='yellowbrick', is_fitted='auto', model=None)"
      ]
     },
     "execution_count": 26,
     "metadata": {},
     "output_type": "execute_result"
    },
    {
     "data": {
      "image/png": "[encoded data removed]",
      "text/plain": [
       "<Figure size 864x648 with 1 Axes>"
      ]
     },
     "metadata": {},
     "output_type": "display_data"
    },
    {
     "data": {
      "text/plain": [
       "<matplotlib.axes._subplots.AxesSubplot at 0x243331ca4a8>"
      ]
     },
     "execution_count": 26,
     "metadata": {},
     "output_type": "execute_result"
    },
    {
     "name": "stdout",
     "output_type": "stream",
     "text": [
      "##################################################\n",
      "Cluster 1 is the most popular, then 0, cluster 2 is almost empty\n"
     ]
    }
   ],
   "source": [
    "#Silhoutte to visualize compactness of clusters\n",
    "print(\"################################# Silhouette Method #######################\")\n",
    "plt.figure(figsize=(12,9))\n",
    "\n",
    "model=MiniBatchKMeans(n_clusters=3).fit(X_scaled)\n",
    "\n",
    "visualizer = SilhouetteVisualizer(model, colors='yellowbrick')\n",
    "visualizer.fit(X_scaled)      \n",
    "visualizer.show()\n",
    "\n",
    "print(\"##################################################\\nCluster 1 is the most popular, then 0, cluster 2 is almost empty\")"
   ]
  },
  {
   "cell_type": "code",
   "execution_count": 27,
   "metadata": {},
   "outputs": [
    {
     "data": {
      "text/plain": [
       "<Figure size 864x648 with 0 Axes>"
      ]
     },
     "execution_count": 27,
     "metadata": {},
     "output_type": "execute_result"
    },
    {
     "data": {
      "text/plain": [
       "InterclusterDistance(ax=<matplotlib.axes._subplots.AxesSubplot object at 0x00000243337490B8>,\n",
       "                     embedding='mds', is_fitted='auto', legend=True,\n",
       "                     legend_loc='lower left', legend_size=1.5, max_size=25000,\n",
       "                     min_size=10000, model=None, random_state=None,\n",
       "                     scoring='membership')"
      ]
     },
     "execution_count": 27,
     "metadata": {},
     "output_type": "execute_result"
    },
    {
     "data": {
      "image/png": "[encoded data removed]",
      "text/plain": [
       "<Figure size 864x648 with 2 Axes>"
      ]
     },
     "metadata": {},
     "output_type": "display_data"
    },
    {
     "data": {
      "text/plain": [
       "<matplotlib.axes._subplots.AxesSubplot at 0x243337490b8>"
      ]
     },
     "execution_count": 27,
     "metadata": {},
     "output_type": "execute_result"
    }
   ],
   "source": [
    "# Inter cluster distance \n",
    "\n",
    "plt.figure(figsize=(12,9))\n",
    "\n",
    "visualizer = InterclusterDistance(model, min_size=10000)\n",
    "#visualizer = InterclusterDistance(model)\n",
    "visualizer.fit(X_scaled)\n",
    "visualizer.show()"
   ]
  },
  {
   "cell_type": "code",
   "execution_count": 28,
   "metadata": {},
   "outputs": [
    {
     "name": "stdout",
     "output_type": "stream",
     "text": [
      "Silhouette score 0.304551\n"
     ]
    }
   ],
   "source": [
    "# Silhouette score\n",
    "\n",
    "from sklearn import metrics\n",
    "\n",
    "she=metrics.silhouette_score(X_scaled, model.labels_, metric=\"euclidean\")\n",
    "print(f'Silhouette score {she:5f}')"
   ]
  },
  {
   "cell_type": "code",
   "execution_count": 29,
   "metadata": {},
   "outputs": [
    {
     "data": {
      "text/plain": [
       "array([0, 0, 1, ..., 2, 0, 1])"
      ]
     },
     "execution_count": 29,
     "metadata": {},
     "output_type": "execute_result"
    },
    {
     "data": {
      "text/plain": [
       "array([[0.10228687, 0.8771374 , 0.00431159, 0.00449651, 0.00125471,\n",
       "        0.03234034, 0.08759834, 0.05492055, 0.03053836, 0.14213253,\n",
       "        0.04175066, 0.00437078, 0.13700788, 0.03056813, 0.01226909,\n",
       "        0.03636476, 0.91597796],\n",
       "       [0.05757198, 0.83928376, 0.02610566, 0.02484904, 0.01191098,\n",
       "        0.01140171, 0.60848883, 0.3853499 , 0.26136294, 0.05131639,\n",
       "        0.01501844, 0.04058095, 0.16403312, 0.03329334, 0.00742431,\n",
       "        0.26770962, 0.92890059],\n",
       "       [0.07333055, 0.95965136, 0.03726382, 0.02041111, 0.04425587,\n",
       "        0.01218764, 0.93971585, 0.26667038, 0.88092596, 0.04830826,\n",
       "        0.01564246, 0.08866292, 0.15725341, 0.04127037, 0.0127524 ,\n",
       "        0.25453392, 0.92680427]])"
      ]
     },
     "execution_count": 29,
     "metadata": {},
     "output_type": "execute_result"
    },
    {
     "data": {
      "text/html": [
       "<div>\n",
       "<style scoped>\n",
       "    .dataframe tbody tr th:only-of-type {\n",
       "        vertical-align: middle;\n",
       "    }\n",
       "\n",
       "    .dataframe tbody tr th {\n",
       "        vertical-align: top;\n",
       "    }\n",
       "\n",
       "    .dataframe thead th {\n",
       "        text-align: right;\n",
       "    }\n",
       "</style>\n",
       "<table border=\"1\" class=\"dataframe\">\n",
       "  <thead>\n",
       "    <tr style=\"text-align: right;\">\n",
       "      <th></th>\n",
       "      <th>BALANCE</th>\n",
       "      <th>BALANCE_FREQUENCY</th>\n",
       "      <th>PURCHASES</th>\n",
       "      <th>ONEOFF_PURCHASES</th>\n",
       "      <th>INSTALLMENTS_PURCHASES</th>\n",
       "      <th>CASH_ADVANCE</th>\n",
       "      <th>PURCHASES_FREQUENCY</th>\n",
       "      <th>ONEOFF_PURCHASES_FREQUENCY</th>\n",
       "      <th>PURCHASES_INSTALLMENTS_FREQUENCY</th>\n",
       "      <th>CASH_ADVANCE_FREQUENCY</th>\n",
       "      <th>CASH_ADVANCE_TRX</th>\n",
       "      <th>PURCHASES_TRX</th>\n",
       "      <th>CREDIT_LIMIT</th>\n",
       "      <th>PAYMENTS</th>\n",
       "      <th>MINIMUM_PAYMENTS</th>\n",
       "      <th>PRC_FULL_PAYMENT</th>\n",
       "      <th>TENURE</th>\n",
       "    </tr>\n",
       "  </thead>\n",
       "  <tbody>\n",
       "    <tr>\n",
       "      <th>0</th>\n",
       "      <td>0.102287</td>\n",
       "      <td>0.877137</td>\n",
       "      <td>0.004312</td>\n",
       "      <td>0.004497</td>\n",
       "      <td>0.001255</td>\n",
       "      <td>0.032340</td>\n",
       "      <td>0.087598</td>\n",
       "      <td>0.054921</td>\n",
       "      <td>0.030538</td>\n",
       "      <td>0.142133</td>\n",
       "      <td>0.041751</td>\n",
       "      <td>0.004371</td>\n",
       "      <td>0.137008</td>\n",
       "      <td>0.030568</td>\n",
       "      <td>0.012269</td>\n",
       "      <td>0.036365</td>\n",
       "      <td>0.915978</td>\n",
       "    </tr>\n",
       "    <tr>\n",
       "      <th>1</th>\n",
       "      <td>0.057572</td>\n",
       "      <td>0.839284</td>\n",
       "      <td>0.026106</td>\n",
       "      <td>0.024849</td>\n",
       "      <td>0.011911</td>\n",
       "      <td>0.011402</td>\n",
       "      <td>0.608489</td>\n",
       "      <td>0.385350</td>\n",
       "      <td>0.261363</td>\n",
       "      <td>0.051316</td>\n",
       "      <td>0.015018</td>\n",
       "      <td>0.040581</td>\n",
       "      <td>0.164033</td>\n",
       "      <td>0.033293</td>\n",
       "      <td>0.007424</td>\n",
       "      <td>0.267710</td>\n",
       "      <td>0.928901</td>\n",
       "    </tr>\n",
       "    <tr>\n",
       "      <th>2</th>\n",
       "      <td>0.073331</td>\n",
       "      <td>0.959651</td>\n",
       "      <td>0.037264</td>\n",
       "      <td>0.020411</td>\n",
       "      <td>0.044256</td>\n",
       "      <td>0.012188</td>\n",
       "      <td>0.939716</td>\n",
       "      <td>0.266670</td>\n",
       "      <td>0.880926</td>\n",
       "      <td>0.048308</td>\n",
       "      <td>0.015642</td>\n",
       "      <td>0.088663</td>\n",
       "      <td>0.157253</td>\n",
       "      <td>0.041270</td>\n",
       "      <td>0.012752</td>\n",
       "      <td>0.254534</td>\n",
       "      <td>0.926804</td>\n",
       "    </tr>\n",
       "  </tbody>\n",
       "</table>\n",
       "</div>"
      ],
      "text/plain": [
       "    BALANCE  BALANCE_FREQUENCY  PURCHASES  ONEOFF_PURCHASES  \\\n",
       "0  0.102287           0.877137   0.004312          0.004497   \n",
       "1  0.057572           0.839284   0.026106          0.024849   \n",
       "2  0.073331           0.959651   0.037264          0.020411   \n",
       "\n",
       "   INSTALLMENTS_PURCHASES  CASH_ADVANCE  PURCHASES_FREQUENCY  \\\n",
       "0                0.001255      0.032340             0.087598   \n",
       "1                0.011911      0.011402             0.608489   \n",
       "2                0.044256      0.012188             0.939716   \n",
       "\n",
       "   ONEOFF_PURCHASES_FREQUENCY  PURCHASES_INSTALLMENTS_FREQUENCY  \\\n",
       "0                    0.054921                          0.030538   \n",
       "1                    0.385350                          0.261363   \n",
       "2                    0.266670                          0.880926   \n",
       "\n",
       "   CASH_ADVANCE_FREQUENCY  CASH_ADVANCE_TRX  PURCHASES_TRX  CREDIT_LIMIT  \\\n",
       "0                0.142133          0.041751       0.004371      0.137008   \n",
       "1                0.051316          0.015018       0.040581      0.164033   \n",
       "2                0.048308          0.015642       0.088663      0.157253   \n",
       "\n",
       "   PAYMENTS  MINIMUM_PAYMENTS  PRC_FULL_PAYMENT    TENURE  \n",
       "0  0.030568          0.012269          0.036365  0.915978  \n",
       "1  0.033293          0.007424          0.267710  0.928901  \n",
       "2  0.041270          0.012752          0.254534  0.926804  "
      ]
     },
     "execution_count": 29,
     "metadata": {},
     "output_type": "execute_result"
    },
    {
     "data": {
      "text/html": [
       "<div>\n",
       "<style scoped>\n",
       "    .dataframe tbody tr th:only-of-type {\n",
       "        vertical-align: middle;\n",
       "    }\n",
       "\n",
       "    .dataframe tbody tr th {\n",
       "        vertical-align: top;\n",
       "    }\n",
       "\n",
       "    .dataframe thead th {\n",
       "        text-align: right;\n",
       "    }\n",
       "</style>\n",
       "<table border=\"1\" class=\"dataframe\">\n",
       "  <thead>\n",
       "    <tr style=\"text-align: right;\">\n",
       "      <th></th>\n",
       "      <th>BALANCE</th>\n",
       "      <th>BALANCE_FREQUENCY</th>\n",
       "      <th>PURCHASES</th>\n",
       "      <th>ONEOFF_PURCHASES</th>\n",
       "      <th>INSTALLMENTS_PURCHASES</th>\n",
       "      <th>CASH_ADVANCE</th>\n",
       "      <th>PURCHASES_FREQUENCY</th>\n",
       "      <th>ONEOFF_PURCHASES_FREQUENCY</th>\n",
       "      <th>PURCHASES_INSTALLMENTS_FREQUENCY</th>\n",
       "      <th>CASH_ADVANCE_FREQUENCY</th>\n",
       "      <th>CASH_ADVANCE_TRX</th>\n",
       "      <th>PURCHASES_TRX</th>\n",
       "      <th>CREDIT_LIMIT</th>\n",
       "      <th>PAYMENTS</th>\n",
       "      <th>MINIMUM_PAYMENTS</th>\n",
       "      <th>PRC_FULL_PAYMENT</th>\n",
       "      <th>TENURE</th>\n",
       "    </tr>\n",
       "  </thead>\n",
       "  <tbody>\n",
       "    <tr>\n",
       "      <th>0</th>\n",
       "      <td>1947.862944</td>\n",
       "      <td>0.877137</td>\n",
       "      <td>211.438564</td>\n",
       "      <td>183.283444</td>\n",
       "      <td>28.230954</td>\n",
       "      <td>1524.433529</td>\n",
       "      <td>0.087598</td>\n",
       "      <td>0.054921</td>\n",
       "      <td>0.030538</td>\n",
       "      <td>0.213199</td>\n",
       "      <td>5.135331</td>\n",
       "      <td>1.564738</td>\n",
       "      <td>4153.386134</td>\n",
       "      <td>1550.508866</td>\n",
       "      <td>937.453911</td>\n",
       "      <td>0.036365</td>\n",
       "      <td>11.495868</td>\n",
       "    </tr>\n",
       "    <tr>\n",
       "      <th>1</th>\n",
       "      <td>1096.351246</td>\n",
       "      <td>0.839284</td>\n",
       "      <td>1280.210533</td>\n",
       "      <td>1012.878097</td>\n",
       "      <td>267.997051</td>\n",
       "      <td>537.444762</td>\n",
       "      <td>0.608489</td>\n",
       "      <td>0.385350</td>\n",
       "      <td>0.261363</td>\n",
       "      <td>0.076975</td>\n",
       "      <td>1.847268</td>\n",
       "      <td>14.527979</td>\n",
       "      <td>4962.792042</td>\n",
       "      <td>1688.735443</td>\n",
       "      <td>567.282550</td>\n",
       "      <td>0.267710</td>\n",
       "      <td>11.573404</td>\n",
       "    </tr>\n",
       "    <tr>\n",
       "      <th>2</th>\n",
       "      <td>1396.443761</td>\n",
       "      <td>0.959651</td>\n",
       "      <td>1827.401572</td>\n",
       "      <td>831.982512</td>\n",
       "      <td>995.756992</td>\n",
       "      <td>574.491247</td>\n",
       "      <td>0.939716</td>\n",
       "      <td>0.266670</td>\n",
       "      <td>0.880926</td>\n",
       "      <td>0.072462</td>\n",
       "      <td>1.924023</td>\n",
       "      <td>31.741326</td>\n",
       "      <td>4759.739689</td>\n",
       "      <td>2093.341817</td>\n",
       "      <td>974.381228</td>\n",
       "      <td>0.254534</td>\n",
       "      <td>11.560826</td>\n",
       "    </tr>\n",
       "  </tbody>\n",
       "</table>\n",
       "</div>"
      ],
      "text/plain": [
       "       BALANCE  BALANCE_FREQUENCY    PURCHASES  ONEOFF_PURCHASES  \\\n",
       "0  1947.862944           0.877137   211.438564        183.283444   \n",
       "1  1096.351246           0.839284  1280.210533       1012.878097   \n",
       "2  1396.443761           0.959651  1827.401572        831.982512   \n",
       "\n",
       "   INSTALLMENTS_PURCHASES  CASH_ADVANCE  PURCHASES_FREQUENCY  \\\n",
       "0               28.230954   1524.433529             0.087598   \n",
       "1              267.997051    537.444762             0.608489   \n",
       "2              995.756992    574.491247             0.939716   \n",
       "\n",
       "   ONEOFF_PURCHASES_FREQUENCY  PURCHASES_INSTALLMENTS_FREQUENCY  \\\n",
       "0                    0.054921                          0.030538   \n",
       "1                    0.385350                          0.261363   \n",
       "2                    0.266670                          0.880926   \n",
       "\n",
       "   CASH_ADVANCE_FREQUENCY  CASH_ADVANCE_TRX  PURCHASES_TRX  CREDIT_LIMIT  \\\n",
       "0                0.213199          5.135331       1.564738   4153.386134   \n",
       "1                0.076975          1.847268      14.527979   4962.792042   \n",
       "2                0.072462          1.924023      31.741326   4759.739689   \n",
       "\n",
       "      PAYMENTS  MINIMUM_PAYMENTS  PRC_FULL_PAYMENT     TENURE  \n",
       "0  1550.508866        937.453911          0.036365  11.495868  \n",
       "1  1688.735443        567.282550          0.267710  11.573404  \n",
       "2  2093.341817        974.381228          0.254534  11.560826  "
      ]
     },
     "execution_count": 29,
     "metadata": {},
     "output_type": "execute_result"
    }
   ],
   "source": [
    "# Centroids\n",
    "\n",
    "model.labels_\n",
    "model.cluster_centers_\n",
    "\n",
    "pd.DataFrame(model.cluster_centers_, columns=X.columns)\n",
    "\n",
    "# BECAUSE WE SCALED WE HAVE TO BRING IT BACK TO THE ORIGINAL RANGES\n",
    "\n",
    "pd.DataFrame(x_scaled_fit.inverse_transform(model.cluster_centers_),columns=X.columns)\n",
    "\n",
    "# --- Now with these values we can have an interpretation of what each cluster means ---"
   ]
  },
  {
   "cell_type": "code",
   "execution_count": 30,
   "metadata": {},
   "outputs": [
    {
     "data": {
      "text/plain": [
       "<Figure size 1224x648 with 0 Axes>"
      ]
     },
     "execution_count": 30,
     "metadata": {},
     "output_type": "execute_result"
    },
    {
     "data": {
      "image/png": "[encoded data removed]",
      "text/plain": [
       "<Figure size 1224x648 with 1 Axes>"
      ]
     },
     "metadata": {},
     "output_type": "display_data"
    },
    {
     "name": "stdout",
     "output_type": "stream",
     "text": [
      "predictions --- \n"
     ]
    },
    {
     "data": {
      "text/plain": [
       "array([0, 0, 1, ..., 2, 0, 2], dtype=int64)"
      ]
     },
     "execution_count": 30,
     "metadata": {},
     "output_type": "execute_result"
    },
    {
     "name": "stdout",
     "output_type": "stream",
     "text": [
      "labels --- \n"
     ]
    },
    {
     "data": {
      "text/plain": [
       "array([0, 0, 1, ..., 2, 0, 2], dtype=int64)"
      ]
     },
     "execution_count": 30,
     "metadata": {},
     "output_type": "execute_result"
    }
   ],
   "source": [
    " # import hierarchical clustering libraries\n",
    "import scipy.cluster.hierarchy as sch\n",
    "from sklearn.cluster import AgglomerativeClustering\n",
    "\n",
    "plt.figure(figsize=(17,9))\n",
    "\n",
    "# create dendrogram\n",
    "dn = sch.dendrogram(sch.linkage(X_scaled, method='ward'), no_labels=True)\n",
    "plt.show()\n",
    "\n",
    "# create clusters\n",
    "hc = AgglomerativeClustering(n_clusters=3, affinity = 'euclidean', linkage = 'ward')\n",
    "\n",
    "# save clusters for chart y_hc = hc.fit_predict(points)\n",
    "print(\"predictions --- \")\n",
    "y_hc = hc.fit_predict(X_scaled)\n",
    "y_hc\n",
    "\n",
    "print(\"labels --- \")\n",
    "hc.labels_"
   ]
  },
  {
   "cell_type": "code",
   "execution_count": 31,
   "metadata": {},
   "outputs": [
    {
     "name": "stdout",
     "output_type": "stream",
     "text": [
      "#####################################################################################\n",
      "#####################################################################################\n",
      "############################## END OF EXERCISE ######################################\n",
      "#####################################################################################\n",
      "#####################################################################################\n"
     ]
    }
   ],
   "source": [
    "print(\"#####################################################################################\")\n",
    "print(\"#####################################################################################\")\n",
    "print(\"############################## END OF EXERCISE ######################################\")\n",
    "print(\"#####################################################################################\")\n",
    "print(\"#####################################################################################\")"
   ]
  }
 ],
 "metadata": {
  "kernelspec": {
   "display_name": "Python 3",
   "language": "python",
   "name": "python3"
  },
  "language_info": {
   "codemirror_mode": {
    "name": "ipython",
    "version": 3
   },
   "file_extension": ".py",
   "mimetype": "text/x-python",
   "name": "python",
   "nbconvert_exporter": "python",
   "pygments_lexer": "ipython3",
   "version": "3.7.3"
  }
 },
 "nbformat": 4,
 "nbformat_minor": 2
}
